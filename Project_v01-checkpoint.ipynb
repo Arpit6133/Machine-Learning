{
 "cells": [
  {
   "cell_type": "code",
   "execution_count": 9,
   "id": "e623c8c8",
   "metadata": {},
   "outputs": [],
   "source": [
    "import numpy as np\n",
    "import pandas as pd\n",
    "%matplotlib inline\n",
    "import matplotlib.pyplot as plt\n",
    "import matplotlib as mpl\n",
    "import os"
   ]
  },
  {
   "cell_type": "code",
   "execution_count": 10,
   "id": "9eea2434",
   "metadata": {},
   "outputs": [],
   "source": [
    "import tensorflow as tf\n",
    "from tensorflow import keras"
   ]
  },
  {
   "cell_type": "markdown",
   "id": "575a452b",
   "metadata": {},
   "source": [
    "Dataset containing 4000 pictures of cats and dogs (2000 cats, 2000 dogs). We will use 2000 pictures for training ,1000 for validation and finally 1000 for testing"
   ]
  },
  {
   "cell_type": "code",
   "execution_count": 11,
   "id": "c4729a45",
   "metadata": {},
   "outputs": [],
   "source": [
    "train_dir = r'C:\\Users\\Arpit\\Desktop\\Machine Learning\\Data Files\\Data Files\\cats_and_dogs_small\\train'\n",
    "validation_dir = r'C:\\Users\\Arpit\\Desktop\\Machine Learning\\Data Files\\Data Files\\cats_and_dogs_small\\validation'\n",
    "test_dir = r'C:\\Users\\Arpit\\Desktop\\Machine Learning\\Data Files\\Data Files\\cats_and_dogs_small\\test'"
   ]
  },
  {
   "cell_type": "markdown",
   "id": "8157e8b7",
   "metadata": {},
   "source": [
    "## Data Preprocessing\n",
    "\n",
    "1. Read the picture files\n",
    "2. Decode the JPEG content to RGB grids of pixels\n",
    "3. Convert these into floating point tensors\n",
    "4. Rescale the pixel values (between 0 and 255) to the [0,1] interval"
   ]
  },
  {
   "cell_type": "code",
   "execution_count": 4,
   "id": "372ebe3a",
   "metadata": {},
   "outputs": [],
   "source": [
    "from tensorflow.keras.preprocessing.image import ImageDataGenerator"
   ]
  },
  {
   "cell_type": "code",
   "execution_count": 5,
   "id": "3ef29636",
   "metadata": {},
   "outputs": [
    {
     "name": "stdout",
     "output_type": "stream",
     "text": [
      "Found 2000 images belonging to 2 classes.\n",
      "Found 2000 images belonging to 2 classes.\n"
     ]
    }
   ],
   "source": [
    "# Generating batches of tensor image data\n",
    "\n",
    "train_datagen = ImageDataGenerator(rescale=1/255)\n",
    "test_datagen = ImageDataGenerator(rescale=1/255)\n",
    "\n",
    "train_generator = train_datagen.flow_from_directory(\n",
    "        train_dir,\n",
    "        target_size=(150,150),\n",
    "        batch_size=20,\n",
    "        class_mode = 'binary')\n",
    "\n",
    "validation_generator = train_datagen.flow_from_directory(\n",
    "        train_dir,\n",
    "        target_size=(150,150),\n",
    "        batch_size=20,\n",
    "        class_mode = 'binary')\n"
   ]
  },
  {
   "cell_type": "code",
   "execution_count": 6,
   "id": "2d9455f0",
   "metadata": {},
   "outputs": [],
   "source": [
    "from tensorflow.keras import layers\n",
    "from tensorflow.keras import models"
   ]
  },
  {
   "cell_type": "code",
   "execution_count": 7,
   "id": "0030522b",
   "metadata": {},
   "outputs": [],
   "source": [
    "model = models.Sequential()\n",
    "\n",
    "model.add(layers.Conv2D(32, (3,3), activation=\"relu\",\n",
    "                       input_shape=(150,150,3)))\n",
    "model.add(layers.MaxPooling2D((2,2)))\n",
    "\n",
    "model.add(layers.Conv2D(64,(3,3),activation=\"relu\"))\n",
    "model.add(layers.MaxPooling2D((2,2)))\n",
    "\n",
    "model.add(layers.Conv2D(128,(3,3), activation=\"relu\"))\n",
    "model.add(layers.MaxPooling2D((2,2)))\n",
    "\n",
    "model.add(layers.Conv2D(128,(3,3), activation=\"relu\"))\n",
    "model.add(layers.MaxPooling2D(2,2))\n",
    "\n",
    "model.add(layers.Flatten())\n",
    "\n",
    "model.add(layers.Dense(512,activation=\"relu\"))\n",
    "\n",
    "model.add(layers.Dense(1,activation=\"sigmoid\"))"
   ]
  },
  {
   "cell_type": "code",
   "execution_count": 8,
   "id": "56849096",
   "metadata": {},
   "outputs": [
    {
     "name": "stdout",
     "output_type": "stream",
     "text": [
      "Model: \"sequential\"\n",
      "_________________________________________________________________\n",
      "Layer (type)                 Output Shape              Param #   \n",
      "=================================================================\n",
      "conv2d (Conv2D)              (None, 148, 148, 32)      896       \n",
      "_________________________________________________________________\n",
      "max_pooling2d (MaxPooling2D) (None, 74, 74, 32)        0         \n",
      "_________________________________________________________________\n",
      "conv2d_1 (Conv2D)            (None, 72, 72, 64)        18496     \n",
      "_________________________________________________________________\n",
      "max_pooling2d_1 (MaxPooling2 (None, 36, 36, 64)        0         \n",
      "_________________________________________________________________\n",
      "conv2d_2 (Conv2D)            (None, 34, 34, 128)       73856     \n",
      "_________________________________________________________________\n",
      "max_pooling2d_2 (MaxPooling2 (None, 17, 17, 128)       0         \n",
      "_________________________________________________________________\n",
      "conv2d_3 (Conv2D)            (None, 15, 15, 128)       147584    \n",
      "_________________________________________________________________\n",
      "max_pooling2d_3 (MaxPooling2 (None, 7, 7, 128)         0         \n",
      "_________________________________________________________________\n",
      "flatten (Flatten)            (None, 6272)              0         \n",
      "_________________________________________________________________\n",
      "dense (Dense)                (None, 512)               3211776   \n",
      "_________________________________________________________________\n",
      "dense_1 (Dense)              (None, 1)                 513       \n",
      "=================================================================\n",
      "Total params: 3,453,121\n",
      "Trainable params: 3,453,121\n",
      "Non-trainable params: 0\n",
      "_________________________________________________________________\n"
     ]
    }
   ],
   "source": [
    "model.summary()"
   ]
  },
  {
   "cell_type": "code",
   "execution_count": 9,
   "id": "7ef82074",
   "metadata": {},
   "outputs": [],
   "source": [
    "from tensorflow.keras import optimizers\n",
    "\n",
    "model.compile(loss=\"binary_crossentropy\",\n",
    "             optimizer=optimizers.RMSprop(lr=1e-4),\n",
    "             metrics=['acc'])"
   ]
  },
  {
   "cell_type": "code",
   "execution_count": 10,
   "id": "8872490f",
   "metadata": {},
   "outputs": [
    {
     "name": "stdout",
     "output_type": "stream",
     "text": [
      "WARNING:tensorflow:From C:\\Users\\Arpit\\AppData\\Local\\Temp\\ipykernel_968\\4170142930.py:1: Model.fit_generator (from tensorflow.python.keras.engine.training) is deprecated and will be removed in a future version.\n",
      "Instructions for updating:\n",
      "Please use Model.fit, which supports generators.\n",
      "Epoch 1/20\n",
      "100/100 [==============================] - 59s 591ms/step - loss: 0.6859 - acc: 0.5355 - val_loss: 0.6592 - val_acc: 0.6080\n",
      "Epoch 2/20\n",
      "100/100 [==============================] - 50s 498ms/step - loss: 0.6496 - acc: 0.6215 - val_loss: 0.6335 - val_acc: 0.6000\n",
      "Epoch 3/20\n",
      "100/100 [==============================] - 50s 503ms/step - loss: 0.6032 - acc: 0.6755 - val_loss: 0.6111 - val_acc: 0.6140\n",
      "Epoch 4/20\n",
      "100/100 [==============================] - 49s 493ms/step - loss: 0.5632 - acc: 0.7125 - val_loss: 0.5670 - val_acc: 0.6980\n",
      "Epoch 5/20\n",
      "100/100 [==============================] - 45s 455ms/step - loss: 0.5305 - acc: 0.7370 - val_loss: 0.5214 - val_acc: 0.7450\n",
      "Epoch 6/20\n",
      "100/100 [==============================] - 50s 498ms/step - loss: 0.5178 - acc: 0.7375 - val_loss: 0.4566 - val_acc: 0.8070\n",
      "Epoch 7/20\n",
      "100/100 [==============================] - 49s 489ms/step - loss: 0.4825 - acc: 0.7665 - val_loss: 0.4325 - val_acc: 0.8180\n",
      "Epoch 8/20\n",
      "100/100 [==============================] - 48s 483ms/step - loss: 0.4558 - acc: 0.7905 - val_loss: 0.4424 - val_acc: 0.8050\n",
      "Epoch 9/20\n",
      "100/100 [==============================] - 49s 486ms/step - loss: 0.4332 - acc: 0.8075 - val_loss: 0.4303 - val_acc: 0.7940\n",
      "Epoch 10/20\n",
      "100/100 [==============================] - 48s 476ms/step - loss: 0.4112 - acc: 0.8105 - val_loss: 0.3746 - val_acc: 0.8290\n",
      "Epoch 11/20\n",
      "100/100 [==============================] - 49s 485ms/step - loss: 0.3837 - acc: 0.8325 - val_loss: 0.3716 - val_acc: 0.8190\n",
      "Epoch 12/20\n",
      "100/100 [==============================] - 47s 468ms/step - loss: 0.3683 - acc: 0.8395 - val_loss: 0.3156 - val_acc: 0.8800\n",
      "Epoch 13/20\n",
      "100/100 [==============================] - 47s 465ms/step - loss: 0.3413 - acc: 0.8520 - val_loss: 0.3201 - val_acc: 0.8610\n",
      "Epoch 14/20\n",
      "100/100 [==============================] - 46s 463ms/step - loss: 0.3230 - acc: 0.8685 - val_loss: 0.2854 - val_acc: 0.8810\n",
      "Epoch 15/20\n",
      "100/100 [==============================] - 46s 464ms/step - loss: 0.3002 - acc: 0.8690 - val_loss: 0.2769 - val_acc: 0.8880\n",
      "Epoch 16/20\n",
      "100/100 [==============================] - 46s 465ms/step - loss: 0.2775 - acc: 0.8830 - val_loss: 0.2227 - val_acc: 0.9210\n",
      "Epoch 17/20\n",
      "100/100 [==============================] - 47s 470ms/step - loss: 0.2559 - acc: 0.8960 - val_loss: 0.2139 - val_acc: 0.9310\n",
      "Epoch 18/20\n",
      "100/100 [==============================] - 46s 464ms/step - loss: 0.2266 - acc: 0.9055 - val_loss: 0.2042 - val_acc: 0.9320\n",
      "Epoch 19/20\n",
      "100/100 [==============================] - 47s 471ms/step - loss: 0.2117 - acc: 0.9255 - val_loss: 0.1947 - val_acc: 0.9240\n",
      "Epoch 20/20\n",
      "100/100 [==============================] - 46s 463ms/step - loss: 0.1930 - acc: 0.9330 - val_loss: 0.1798 - val_acc: 0.9350\n"
     ]
    }
   ],
   "source": [
    "history = model.fit_generator(\n",
    "        train_generator,\n",
    "        steps_per_epoch=100,\n",
    "        epochs=20,\n",
    "        validation_data=validation_generator,\n",
    "        validation_steps=50)"
   ]
  },
  {
   "cell_type": "code",
   "execution_count": 11,
   "id": "790ec2f4",
   "metadata": {},
   "outputs": [
    {
     "data": {
      "image/png": "[encoded data removed]",
      "text/plain": [
       "<Figure size 576x360 with 1 Axes>"
      ]
     },
     "metadata": {
      "needs_background": "light"
     },
     "output_type": "display_data"
    }
   ],
   "source": [
    "pd.DataFrame(history.history).plot(figsize=(8,5))\n",
    "plt.grid(True)\n",
    "plt.gca().set_ylim(0,1)\n",
    "plt.show()"
   ]
  },
  {
   "cell_type": "code",
   "execution_count": 12,
   "id": "49a8d549",
   "metadata": {},
   "outputs": [],
   "source": [
    "model.save(\"model.h5\")"
   ]
  },
  {
   "cell_type": "code",
   "execution_count": 13,
   "id": "49d6803a",
   "metadata": {},
   "outputs": [],
   "source": [
    "from tensorflow.keras import backend as K\n",
    "\n",
    "K.clear_session()\n",
    "del model"
   ]
  },
  {
   "cell_type": "markdown",
   "id": "b025b2fa",
   "metadata": {},
   "source": [
    "## Data Augmentation Preprocessing"
   ]
  },
  {
   "cell_type": "code",
   "execution_count": 14,
   "id": "b51c2f2d",
   "metadata": {},
   "outputs": [
    {
     "name": "stdout",
     "output_type": "stream",
     "text": [
      "Found 2000 images belonging to 2 classes.\n",
      "Found 2000 images belonging to 2 classes.\n"
     ]
    }
   ],
   "source": [
    "train_datagen = ImageDataGenerator(\n",
    "        rescale=1/255,\n",
    "        rotation_range=40,\n",
    "        width_shift_range=0.2,\n",
    "        height_shift_range=0.2,\n",
    "        shear_range=0.2,\n",
    "        zoom_range=0.2,\n",
    "        horizontal_flip=True)\n",
    "\n",
    "test_datagen = ImageDataGenerator(rescale=1/255)\n",
    "\n",
    "train_generator = train_datagen.flow_from_directory(\n",
    "        train_dir,\n",
    "        target_size=(150,150),\n",
    "        batch_size = 20,\n",
    "        class_mode='binary')\n",
    "\n",
    "validation_generator = test_datagen.flow_from_directory(\n",
    "        train_dir,\n",
    "        target_size=(150,150),\n",
    "        batch_size = 20,\n",
    "        class_mode='binary')\n"
   ]
  },
  {
   "cell_type": "code",
   "execution_count": 15,
   "id": "dc4a93fa",
   "metadata": {},
   "outputs": [],
   "source": [
    "model = models.Sequential()\n",
    "model.add(layers.Conv2D(32,(3,3), activation=\"relu\",\n",
    "                       input_shape=(150,150,3)))\n",
    "model.add(layers.MaxPooling2D((2,2)))\n",
    "model.add(layers.Conv2D(64,(3,3), activation=\"relu\",))\n",
    "model.add(layers.MaxPooling2D((2,2)))\n",
    "model.add(layers.Conv2D(128,(3,3), activation=\"relu\",))\n",
    "model.add(layers.MaxPooling2D((2,2)))\n",
    "model.add(layers.Conv2D(128,(3,3), activation=\"relu\",))\n",
    "model.add(layers.MaxPooling2D((2,2)))\n",
    "model.add(layers.Flatten())\n",
    "model.add(layers.Dropout(0.5))\n",
    "model.add(layers.Dense(512, activation=\"relu\"))\n",
    "model.add(layers.Dense(1,activation=\"sigmoid\"))\n"
   ]
  },
  {
   "cell_type": "code",
   "execution_count": 16,
   "id": "337fd2dd",
   "metadata": {},
   "outputs": [],
   "source": [
    "model.compile(loss=\"binary_crossentropy\",\n",
    "             optimizer=optimizers.RMSprop(lr=1e-4),\n",
    "             metrics=['acc'])"
   ]
  },
  {
   "cell_type": "code",
   "execution_count": 21,
   "id": "1c0a2e3e",
   "metadata": {},
   "outputs": [
    {
     "name": "stdout",
     "output_type": "stream",
     "text": [
      "Epoch 1/100\n",
      "60/60 [==============================] - 51s 846ms/step - loss: 0.6870 - acc: 0.5347 - val_loss: 0.6816 - val_acc: 0.5425\n",
      "Epoch 2/100\n",
      "60/60 [==============================] - 52s 861ms/step - loss: 0.6740 - acc: 0.5588 - val_loss: 0.6682 - val_acc: 0.5813\n",
      "Epoch 3/100\n",
      "60/60 [==============================] - 51s 849ms/step - loss: 0.6671 - acc: 0.5877 - val_loss: 0.6455 - val_acc: 0.6300\n",
      "Epoch 4/100\n",
      "60/60 [==============================] - 51s 849ms/step - loss: 0.6581 - acc: 0.5977 - val_loss: 0.6353 - val_acc: 0.6294\n",
      "Epoch 5/100\n",
      "60/60 [==============================] - 51s 847ms/step - loss: 0.6499 - acc: 0.6161 - val_loss: 0.6113 - val_acc: 0.6750\n",
      "Epoch 6/100\n",
      "60/60 [==============================] - 51s 846ms/step - loss: 0.6408 - acc: 0.6213 - val_loss: 0.5998 - val_acc: 0.6681\n",
      "Epoch 7/100\n",
      "60/60 [==============================] - 51s 851ms/step - loss: 0.6262 - acc: 0.6434 - val_loss: 0.5838 - val_acc: 0.6881\n",
      "Epoch 8/100\n",
      "60/60 [==============================] - 51s 849ms/step - loss: 0.6188 - acc: 0.6623 - val_loss: 0.6178 - val_acc: 0.6600\n",
      "Epoch 9/100\n",
      "60/60 [==============================] - 51s 847ms/step - loss: 0.6134 - acc: 0.6602 - val_loss: 0.5801 - val_acc: 0.6869\n",
      "Epoch 10/100\n",
      "60/60 [==============================] - 51s 848ms/step - loss: 0.6167 - acc: 0.6602 - val_loss: 0.7090 - val_acc: 0.5694\n",
      "Epoch 11/100\n",
      "60/60 [==============================] - 51s 855ms/step - loss: 0.6000 - acc: 0.6607 - val_loss: 0.5469 - val_acc: 0.7281\n",
      "Epoch 12/100\n",
      "60/60 [==============================] - 51s 847ms/step - loss: 0.5969 - acc: 0.6733 - val_loss: 0.5368 - val_acc: 0.7331\n",
      "Epoch 13/100\n",
      "60/60 [==============================] - 51s 847ms/step - loss: 0.5934 - acc: 0.6812 - val_loss: 0.5377 - val_acc: 0.7362\n",
      "Epoch 14/100\n",
      "60/60 [==============================] - 52s 859ms/step - loss: 0.5882 - acc: 0.6822 - val_loss: 0.5207 - val_acc: 0.7431\n",
      "Epoch 15/100\n",
      "60/60 [==============================] - 54s 900ms/step - loss: 0.5836 - acc: 0.6886 - val_loss: 0.5597 - val_acc: 0.7125\n",
      "Epoch 16/100\n",
      "60/60 [==============================] - 53s 877ms/step - loss: 0.5776 - acc: 0.7038 - val_loss: 0.5483 - val_acc: 0.7156\n",
      "Epoch 17/100\n",
      "60/60 [==============================] - 53s 891ms/step - loss: 0.5777 - acc: 0.6954 - val_loss: 0.5132 - val_acc: 0.7487\n",
      "Epoch 18/100\n",
      "60/60 [==============================] - 53s 888ms/step - loss: 0.5629 - acc: 0.7111 - val_loss: 0.5618 - val_acc: 0.6981\n",
      "Epoch 19/100\n",
      "60/60 [==============================] - 53s 887ms/step - loss: 0.5757 - acc: 0.7064 - val_loss: 0.5077 - val_acc: 0.7644\n",
      "Epoch 20/100\n",
      "60/60 [==============================] - 54s 893ms/step - loss: 0.5687 - acc: 0.7006 - val_loss: 0.5428 - val_acc: 0.7206\n",
      "Epoch 21/100\n",
      "60/60 [==============================] - 53s 887ms/step - loss: 0.5818 - acc: 0.6907 - val_loss: 0.4981 - val_acc: 0.7638\n",
      "Epoch 22/100\n",
      "60/60 [==============================] - 53s 884ms/step - loss: 0.5614 - acc: 0.7153 - val_loss: 0.4997 - val_acc: 0.7613\n",
      "Epoch 23/100\n",
      "60/60 [==============================] - 52s 863ms/step - loss: 0.5509 - acc: 0.7190 - val_loss: 0.5026 - val_acc: 0.7600\n",
      "Epoch 24/100\n",
      "60/60 [==============================] - 52s 861ms/step - loss: 0.5490 - acc: 0.7174 - val_loss: 0.4829 - val_acc: 0.7688\n",
      "Epoch 25/100\n",
      "60/60 [==============================] - 52s 863ms/step - loss: 0.5545 - acc: 0.7138 - val_loss: 0.4950 - val_acc: 0.7681\n",
      "Epoch 26/100\n",
      "60/60 [==============================] - 52s 864ms/step - loss: 0.5436 - acc: 0.7174 - val_loss: 0.4853 - val_acc: 0.7688\n",
      "Epoch 27/100\n",
      "60/60 [==============================] - 52s 866ms/step - loss: 0.5422 - acc: 0.7253 - val_loss: 0.4780 - val_acc: 0.7794\n",
      "Epoch 28/100\n",
      "60/60 [==============================] - 52s 865ms/step - loss: 0.5463 - acc: 0.7201 - val_loss: 0.5294 - val_acc: 0.7350\n",
      "Epoch 29/100\n",
      "60/60 [==============================] - 52s 865ms/step - loss: 0.5423 - acc: 0.7258 - val_loss: 0.4671 - val_acc: 0.7719\n",
      "Epoch 30/100\n",
      "60/60 [==============================] - 53s 878ms/step - loss: 0.5399 - acc: 0.7258 - val_loss: 0.4693 - val_acc: 0.7788\n",
      "Epoch 31/100\n",
      "60/60 [==============================] - 54s 905ms/step - loss: 0.5380 - acc: 0.7180 - val_loss: 0.4562 - val_acc: 0.7769\n",
      "Epoch 32/100\n",
      "60/60 [==============================] - 54s 894ms/step - loss: 0.5126 - acc: 0.7411 - val_loss: 0.5071 - val_acc: 0.7412\n",
      "Epoch 33/100\n",
      "60/60 [==============================] - 53s 887ms/step - loss: 0.5304 - acc: 0.7295 - val_loss: 0.4716 - val_acc: 0.7825\n",
      "Epoch 34/100\n",
      "60/60 [==============================] - 54s 905ms/step - loss: 0.5343 - acc: 0.7316 - val_loss: 0.5442 - val_acc: 0.7050\n",
      "Epoch 35/100\n",
      "60/60 [==============================] - 53s 886ms/step - loss: 0.5274 - acc: 0.7353 - val_loss: 0.4629 - val_acc: 0.7706\n",
      "Epoch 36/100\n",
      "60/60 [==============================] - 53s 881ms/step - loss: 0.5254 - acc: 0.7369 - val_loss: 0.4628 - val_acc: 0.7756\n",
      "Epoch 37/100\n",
      "60/60 [==============================] - 53s 884ms/step - loss: 0.5146 - acc: 0.7411 - val_loss: 0.4437 - val_acc: 0.7975\n",
      "Epoch 38/100\n",
      "60/60 [==============================] - 53s 882ms/step - loss: 0.5140 - acc: 0.7532 - val_loss: 0.4305 - val_acc: 0.8050\n",
      "Epoch 39/100\n",
      "60/60 [==============================] - 53s 881ms/step - loss: 0.5244 - acc: 0.7426 - val_loss: 0.4554 - val_acc: 0.7887\n",
      "Epoch 40/100\n",
      "60/60 [==============================] - 55s 915ms/step - loss: 0.5229 - acc: 0.7384 - val_loss: 0.4962 - val_acc: 0.7563\n",
      "Epoch 41/100\n",
      "60/60 [==============================] - 53s 881ms/step - loss: 0.5107 - acc: 0.7489 - val_loss: 0.4534 - val_acc: 0.7912\n",
      "Epoch 42/100\n",
      "60/60 [==============================] - 53s 878ms/step - loss: 0.5047 - acc: 0.7511 - val_loss: 0.4280 - val_acc: 0.8125\n",
      "Epoch 43/100\n",
      "60/60 [==============================] - 53s 887ms/step - loss: 0.5059 - acc: 0.7600 - val_loss: 0.4572 - val_acc: 0.7875\n",
      "Epoch 44/100\n",
      "60/60 [==============================] - 53s 878ms/step - loss: 0.4983 - acc: 0.7631 - val_loss: 0.4361 - val_acc: 0.7956\n",
      "Epoch 45/100\n",
      "60/60 [==============================] - 53s 880ms/step - loss: 0.5094 - acc: 0.7463 - val_loss: 0.4217 - val_acc: 0.8131\n",
      "Epoch 46/100\n",
      "60/60 [==============================] - 53s 878ms/step - loss: 0.4959 - acc: 0.7579 - val_loss: 0.4450 - val_acc: 0.7831\n",
      "Epoch 47/100\n",
      "60/60 [==============================] - 54s 899ms/step - loss: 0.5011 - acc: 0.7405 - val_loss: 0.4283 - val_acc: 0.8025\n",
      "Epoch 48/100\n",
      "60/60 [==============================] - 54s 901ms/step - loss: 0.4943 - acc: 0.7679 - val_loss: 0.4025 - val_acc: 0.8213\n",
      "Epoch 49/100\n",
      "60/60 [==============================] - 53s 883ms/step - loss: 0.5108 - acc: 0.7395 - val_loss: 0.4449 - val_acc: 0.7950\n",
      "Epoch 50/100\n",
      "60/60 [==============================] - 53s 881ms/step - loss: 0.4898 - acc: 0.7579 - val_loss: 0.4861 - val_acc: 0.7631\n",
      "Epoch 51/100\n",
      "60/60 [==============================] - 53s 881ms/step - loss: 0.4998 - acc: 0.7589 - val_loss: 0.4139 - val_acc: 0.8194\n",
      "Epoch 52/100\n",
      "60/60 [==============================] - 53s 881ms/step - loss: 0.4846 - acc: 0.7642 - val_loss: 0.4091 - val_acc: 0.8112\n",
      "Epoch 53/100\n",
      "60/60 [==============================] - 53s 883ms/step - loss: 0.4683 - acc: 0.7757 - val_loss: 0.4021 - val_acc: 0.8206\n",
      "Epoch 54/100\n",
      "60/60 [==============================] - 53s 887ms/step - loss: 0.4784 - acc: 0.7715 - val_loss: 0.4234 - val_acc: 0.8112\n",
      "Epoch 55/100\n",
      "60/60 [==============================] - 53s 880ms/step - loss: 0.4950 - acc: 0.7752 - val_loss: 0.4523 - val_acc: 0.7756\n",
      "Epoch 56/100\n",
      "60/60 [==============================] - 53s 880ms/step - loss: 0.4793 - acc: 0.7626 - val_loss: 0.4151 - val_acc: 0.8094\n",
      "Epoch 57/100\n",
      "60/60 [==============================] - 53s 882ms/step - loss: 0.4736 - acc: 0.7668 - val_loss: 0.4008 - val_acc: 0.8219\n",
      "Epoch 58/100\n",
      "60/60 [==============================] - 53s 880ms/step - loss: 0.4825 - acc: 0.7710 - val_loss: 0.3981 - val_acc: 0.8331\n",
      "Epoch 59/100\n",
      "60/60 [==============================] - 53s 881ms/step - loss: 0.4623 - acc: 0.7889 - val_loss: 0.3936 - val_acc: 0.8188\n",
      "Epoch 60/100\n",
      "60/60 [==============================] - 53s 883ms/step - loss: 0.4664 - acc: 0.7794 - val_loss: 0.3940 - val_acc: 0.8213\n",
      "Epoch 61/100\n",
      "60/60 [==============================] - 53s 883ms/step - loss: 0.4626 - acc: 0.7778 - val_loss: 0.3785 - val_acc: 0.8363\n"
     ]
    },
    {
     "name": "stdout",
     "output_type": "stream",
     "text": [
      "Epoch 62/100\n",
      "60/60 [==============================] - 53s 878ms/step - loss: 0.4730 - acc: 0.7742 - val_loss: 0.4315 - val_acc: 0.7887\n",
      "Epoch 63/100\n",
      "60/60 [==============================] - 53s 878ms/step - loss: 0.4752 - acc: 0.7778 - val_loss: 0.4074 - val_acc: 0.8144\n",
      "Epoch 64/100\n",
      "60/60 [==============================] - 53s 877ms/step - loss: 0.4657 - acc: 0.7862 - val_loss: 0.4625 - val_acc: 0.7756\n",
      "Epoch 65/100\n",
      "60/60 [==============================] - 53s 880ms/step - loss: 0.4687 - acc: 0.7815 - val_loss: 0.4002 - val_acc: 0.8175\n",
      "Epoch 66/100\n",
      "60/60 [==============================] - 53s 876ms/step - loss: 0.4599 - acc: 0.7810 - val_loss: 0.3770 - val_acc: 0.8413\n",
      "Epoch 67/100\n",
      "60/60 [==============================] - 53s 880ms/step - loss: 0.4605 - acc: 0.7904 - val_loss: 0.4307 - val_acc: 0.7975\n",
      "Epoch 68/100\n",
      "60/60 [==============================] - 53s 880ms/step - loss: 0.4626 - acc: 0.7794 - val_loss: 0.4057 - val_acc: 0.8112\n",
      "Epoch 69/100\n",
      "60/60 [==============================] - 53s 878ms/step - loss: 0.4697 - acc: 0.7689 - val_loss: 0.3885 - val_acc: 0.8219\n",
      "Epoch 70/100\n",
      "60/60 [==============================] - 53s 878ms/step - loss: 0.4589 - acc: 0.7878 - val_loss: 0.3578 - val_acc: 0.8550\n",
      "Epoch 71/100\n",
      "60/60 [==============================] - 53s 882ms/step - loss: 0.4605 - acc: 0.7757 - val_loss: 0.3710 - val_acc: 0.8294\n",
      "Epoch 72/100\n",
      "60/60 [==============================] - 53s 881ms/step - loss: 0.4671 - acc: 0.7731 - val_loss: 0.3775 - val_acc: 0.8375\n",
      "Epoch 73/100\n",
      "60/60 [==============================] - 53s 877ms/step - loss: 0.4554 - acc: 0.7820 - val_loss: 0.3928 - val_acc: 0.8263\n",
      "Epoch 74/100\n",
      "60/60 [==============================] - 53s 879ms/step - loss: 0.4547 - acc: 0.7883 - val_loss: 0.4063 - val_acc: 0.8225\n",
      "Epoch 75/100\n",
      "60/60 [==============================] - 53s 877ms/step - loss: 0.4388 - acc: 0.7904 - val_loss: 0.5102 - val_acc: 0.7538\n",
      "Epoch 76/100\n",
      "60/60 [==============================] - 53s 881ms/step - loss: 0.4490 - acc: 0.7952 - val_loss: 0.3676 - val_acc: 0.8381\n",
      "Epoch 77/100\n",
      "60/60 [==============================] - 54s 904ms/step - loss: 0.4603 - acc: 0.7757 - val_loss: 0.3673 - val_acc: 0.8319\n",
      "Epoch 78/100\n",
      "60/60 [==============================] - 54s 894ms/step - loss: 0.4496 - acc: 0.7826 - val_loss: 0.3408 - val_acc: 0.8506\n",
      "Epoch 79/100\n",
      "60/60 [==============================] - 53s 890ms/step - loss: 0.4506 - acc: 0.7925 - val_loss: 0.3989 - val_acc: 0.8119\n",
      "Epoch 80/100\n",
      "60/60 [==============================] - 53s 878ms/step - loss: 0.4319 - acc: 0.7978 - val_loss: 0.3539 - val_acc: 0.8500\n",
      "Epoch 81/100\n",
      "60/60 [==============================] - 53s 879ms/step - loss: 0.4440 - acc: 0.7962 - val_loss: 0.3786 - val_acc: 0.8231\n",
      "Epoch 82/100\n",
      "60/60 [==============================] - 53s 880ms/step - loss: 0.4450 - acc: 0.8051 - val_loss: 0.4626 - val_acc: 0.7812\n",
      "Epoch 83/100\n",
      "60/60 [==============================] - 53s 878ms/step - loss: 0.4581 - acc: 0.7778 - val_loss: 0.3728 - val_acc: 0.8356\n",
      "Epoch 84/100\n",
      "60/60 [==============================] - 53s 878ms/step - loss: 0.4320 - acc: 0.8099 - val_loss: 0.3476 - val_acc: 0.8413\n",
      "Epoch 85/100\n",
      "60/60 [==============================] - 53s 878ms/step - loss: 0.4264 - acc: 0.8030 - val_loss: 0.4201 - val_acc: 0.8100\n",
      "Epoch 86/100\n",
      "60/60 [==============================] - 53s 879ms/step - loss: 0.4440 - acc: 0.7988 - val_loss: 0.3754 - val_acc: 0.8231\n",
      "Epoch 87/100\n",
      "60/60 [==============================] - 53s 881ms/step - loss: 0.4453 - acc: 0.7904 - val_loss: 0.3497 - val_acc: 0.8456\n",
      "Epoch 88/100\n",
      "60/60 [==============================] - 53s 881ms/step - loss: 0.4322 - acc: 0.7978 - val_loss: 0.3974 - val_acc: 0.8144\n",
      "Epoch 89/100\n",
      "60/60 [==============================] - 53s 880ms/step - loss: 0.4305 - acc: 0.8067 - val_loss: 0.3391 - val_acc: 0.8600\n",
      "Epoch 90/100\n",
      "60/60 [==============================] - 53s 878ms/step - loss: 0.4337 - acc: 0.7946 - val_loss: 0.3286 - val_acc: 0.8569\n",
      "Epoch 91/100\n",
      "60/60 [==============================] - 53s 877ms/step - loss: 0.4402 - acc: 0.7878 - val_loss: 0.3563 - val_acc: 0.8462\n",
      "Epoch 92/100\n",
      "60/60 [==============================] - 51s 844ms/step - loss: 0.4140 - acc: 0.8172 - val_loss: 0.3345 - val_acc: 0.8587\n",
      "Epoch 93/100\n",
      "60/60 [==============================] - 50s 839ms/step - loss: 0.4265 - acc: 0.8088 - val_loss: 0.3588 - val_acc: 0.8363\n",
      "Epoch 94/100\n",
      "60/60 [==============================] - 50s 841ms/step - loss: 0.4140 - acc: 0.8141 - val_loss: 0.3605 - val_acc: 0.8512\n",
      "Epoch 95/100\n",
      "60/60 [==============================] - 50s 840ms/step - loss: 0.4133 - acc: 0.8104 - val_loss: 0.3469 - val_acc: 0.8425\n",
      "Epoch 96/100\n",
      "60/60 [==============================] - 50s 839ms/step - loss: 0.4039 - acc: 0.8046 - val_loss: 0.3247 - val_acc: 0.8537\n",
      "Epoch 97/100\n",
      "60/60 [==============================] - 50s 840ms/step - loss: 0.4292 - acc: 0.7941 - val_loss: 0.3517 - val_acc: 0.8462\n",
      "Epoch 98/100\n",
      "60/60 [==============================] - 51s 850ms/step - loss: 0.4191 - acc: 0.8167 - val_loss: 0.3356 - val_acc: 0.8612\n",
      "Epoch 99/100\n",
      "60/60 [==============================] - 50s 839ms/step - loss: 0.4175 - acc: 0.8088 - val_loss: 0.3899 - val_acc: 0.8231\n",
      "Epoch 100/100\n",
      "60/60 [==============================] - 50s 839ms/step - loss: 0.4073 - acc: 0.8151 - val_loss: 0.3883 - val_acc: 0.8181\n"
     ]
    }
   ],
   "source": [
    "history = model.fit_generator(\n",
    "        train_generator,\n",
    "        steps_per_epoch=60,\n",
    "        epochs=100,\n",
    "        validation_data=validation_generator,\n",
    "        validation_steps=50)"
   ]
  },
  {
   "cell_type": "code",
   "execution_count": 22,
   "id": "0c74b6a7",
   "metadata": {},
   "outputs": [],
   "source": [
    "model.save(\"project_cnn.h5\")"
   ]
  },
  {
   "cell_type": "code",
   "execution_count": 23,
   "id": "ffca4514",
   "metadata": {},
   "outputs": [
    {
     "data": {
      "image/png": "[encoded data removed]",
      "text/plain": [
       "<Figure size 576x360 with 1 Axes>"
      ]
     },
     "metadata": {
      "needs_background": "light"
     },
     "output_type": "display_data"
    }
   ],
   "source": [
    "pd.DataFrame(history.history).plot(figsize=(8,5))\n",
    "plt.grid(True)\n",
    "plt.gca().set_ylim(0,1)\n",
    "plt.show()"
   ]
  },
  {
   "cell_type": "markdown",
   "id": "395044a9",
   "metadata": {},
   "source": [
    "# VGG16"
   ]
  },
  {
   "cell_type": "code",
   "execution_count": 12,
   "id": "b441bbdd",
   "metadata": {},
   "outputs": [
    {
     "name": "stdout",
     "output_type": "stream",
     "text": [
      "Found 2000 images belonging to 2 classes.\n",
      "Found 1000 images belonging to 2 classes.\n"
     ]
    }
   ],
   "source": [
    "from tensorflow.keras.preprocessing.image import ImageDataGenerator\n",
    "\n",
    "train_datagen = ImageDataGenerator(rescale=1/255,\n",
    "                                  rotation_range=40,\n",
    "                                  width_shift_range=0.2,\n",
    "                                  height_shift_range=0.2,\n",
    "                                  shear_range=0.2,\n",
    "                                  zoom_range=0.2,\n",
    "                                  horizontal_flip=True)\n",
    "\n",
    "test_datagen = ImageDataGenerator(rescale=1/255)\n",
    "\n",
    "train_generator = test_datagen.flow_from_directory(train_dir,\n",
    "                                                  target_size=(150,150),\n",
    "                                                  batch_size=20,\n",
    "                                                  class_mode=\"binary\")\n",
    "\n",
    "validation_generator = test_datagen.flow_from_directory(validation_dir,\n",
    "                                                       target_size = (150,150),\n",
    "                                                       batch_size=20,\n",
    "                                                       class_mode=\"binary\")"
   ]
  },
  {
   "cell_type": "code",
   "execution_count": 13,
   "id": "742bd958",
   "metadata": {},
   "outputs": [],
   "source": [
    "from tensorflow.keras.applications import VGG16\n",
    "\n",
    "conv_base = VGG16(weights='imagenet',\n",
    "                 include_top=False,\n",
    "                 input_shape=(150,150,3))"
   ]
  },
  {
   "cell_type": "code",
   "execution_count": 14,
   "id": "3bf4c497",
   "metadata": {
    "scrolled": false
   },
   "outputs": [
    {
     "name": "stdout",
     "output_type": "stream",
     "text": [
      "Model: \"vgg16\"\n",
      "_________________________________________________________________\n",
      "Layer (type)                 Output Shape              Param #   \n",
      "=================================================================\n",
      "input_2 (InputLayer)         [(None, 150, 150, 3)]     0         \n",
      "_________________________________________________________________\n",
      "block1_conv1 (Conv2D)        (None, 150, 150, 64)      1792      \n",
      "_________________________________________________________________\n",
      "block1_conv2 (Conv2D)        (None, 150, 150, 64)      36928     \n",
      "_________________________________________________________________\n",
      "block1_pool (MaxPooling2D)   (None, 75, 75, 64)        0         \n",
      "_________________________________________________________________\n",
      "block2_conv1 (Conv2D)        (None, 75, 75, 128)       73856     \n",
      "_________________________________________________________________\n",
      "block2_conv2 (Conv2D)        (None, 75, 75, 128)       147584    \n",
      "_________________________________________________________________\n",
      "block2_pool (MaxPooling2D)   (None, 37, 37, 128)       0         \n",
      "_________________________________________________________________\n",
      "block3_conv1 (Conv2D)        (None, 37, 37, 256)       295168    \n",
      "_________________________________________________________________\n",
      "block3_conv2 (Conv2D)        (None, 37, 37, 256)       590080    \n",
      "_________________________________________________________________\n",
      "block3_conv3 (Conv2D)        (None, 37, 37, 256)       590080    \n",
      "_________________________________________________________________\n",
      "block3_pool (MaxPooling2D)   (None, 18, 18, 256)       0         \n",
      "_________________________________________________________________\n",
      "block4_conv1 (Conv2D)        (None, 18, 18, 512)       1180160   \n",
      "_________________________________________________________________\n",
      "block4_conv2 (Conv2D)        (None, 18, 18, 512)       2359808   \n",
      "_________________________________________________________________\n",
      "block4_conv3 (Conv2D)        (None, 18, 18, 512)       2359808   \n",
      "_________________________________________________________________\n",
      "block4_pool (MaxPooling2D)   (None, 9, 9, 512)         0         \n",
      "_________________________________________________________________\n",
      "block5_conv1 (Conv2D)        (None, 9, 9, 512)         2359808   \n",
      "_________________________________________________________________\n",
      "block5_conv2 (Conv2D)        (None, 9, 9, 512)         2359808   \n",
      "_________________________________________________________________\n",
      "block5_conv3 (Conv2D)        (None, 9, 9, 512)         2359808   \n",
      "_________________________________________________________________\n",
      "block5_pool (MaxPooling2D)   (None, 4, 4, 512)         0         \n",
      "=================================================================\n",
      "Total params: 14,714,688\n",
      "Trainable params: 14,714,688\n",
      "Non-trainable params: 0\n",
      "_________________________________________________________________\n"
     ]
    }
   ],
   "source": [
    "conv_base.summary()"
   ]
  },
  {
   "cell_type": "code",
   "execution_count": 16,
   "id": "5c52510d",
   "metadata": {},
   "outputs": [],
   "source": [
    "from tensorflow.keras import models\n",
    "from tensorflow.keras import layers\n",
    "\n",
    "model = models.Sequential()\n",
    "model.add(conv_base)\n",
    "model.add(layers.Flatten())\n",
    "model.add(layers.Dense(256,activation=\"relu\"))\n",
    "model.add(layers.Dense(1,activation=\"sigmoid\"))"
   ]
  },
  {
   "cell_type": "code",
   "execution_count": 17,
   "id": "eb957352",
   "metadata": {},
   "outputs": [
    {
     "name": "stdout",
     "output_type": "stream",
     "text": [
      "Model: \"sequential\"\n",
      "_________________________________________________________________\n",
      "Layer (type)                 Output Shape              Param #   \n",
      "=================================================================\n",
      "vgg16 (Functional)           (None, 4, 4, 512)         14714688  \n",
      "_________________________________________________________________\n",
      "flatten (Flatten)            (None, 8192)              0         \n",
      "_________________________________________________________________\n",
      "dense (Dense)                (None, 256)               2097408   \n",
      "_________________________________________________________________\n",
      "dense_1 (Dense)              (None, 1)                 257       \n",
      "=================================================================\n",
      "Total params: 16,812,353\n",
      "Trainable params: 16,812,353\n",
      "Non-trainable params: 0\n",
      "_________________________________________________________________\n"
     ]
    }
   ],
   "source": [
    "model.summary()"
   ]
  },
  {
   "cell_type": "code",
   "execution_count": 18,
   "id": "94f88b93",
   "metadata": {},
   "outputs": [],
   "source": [
    "# conv_base.trainable = False"
   ]
  },
  {
   "cell_type": "code",
   "execution_count": 19,
   "id": "96e31813",
   "metadata": {},
   "outputs": [],
   "source": [
    "from tensorflow.keras import optimizers\n",
    "\n",
    "model.compile(loss=\"binary_crossentropy\",\n",
    "             optimizer=optimizers.RMSprop(lr=2e-5),\n",
    "             metrics=['acc'])"
   ]
  },
  {
   "cell_type": "code",
   "execution_count": 20,
   "id": "0408613b",
   "metadata": {},
   "outputs": [],
   "source": [
    "checkpoint_cb = keras.callbacks.ModelCheckpoint(\"CNN_project_Model-{epoch:02d}.h5\")"
   ]
  },
  {
   "cell_type": "code",
   "execution_count": 22,
   "id": "6f41ff23",
   "metadata": {},
   "outputs": [
    {
     "name": "stdout",
     "output_type": "stream",
     "text": [
      "WARNING:tensorflow:From C:\\Users\\Arpit\\AppData\\Local\\Temp\\ipykernel_7464\\3755505231.py:1: Model.fit_generator (from tensorflow.python.keras.engine.training) is deprecated and will be removed in a future version.\n",
      "Instructions for updating:\n",
      "Please use Model.fit, which supports generators.\n",
      "Epoch 1/30\n",
      "100/100 [==============================] - 730s 7s/step - loss: 0.3164 - acc: 0.8515 - val_loss: 0.1643 - val_acc: 0.9400\n",
      "Epoch 2/30\n",
      "100/100 [==============================] - 669s 7s/step - loss: 0.1045 - acc: 0.9605 - val_loss: 0.1147 - val_acc: 0.9530\n",
      "Epoch 3/30\n",
      "100/100 [==============================] - 674s 7s/step - loss: 0.0524 - acc: 0.9840 - val_loss: 0.1203 - val_acc: 0.9510\n",
      "Epoch 4/30\n",
      "100/100 [==============================] - 670s 7s/step - loss: 0.0267 - acc: 0.9920 - val_loss: 0.1367 - val_acc: 0.9500\n",
      "Epoch 5/30\n",
      "100/100 [==============================] - 666s 7s/step - loss: 0.0295 - acc: 0.9930 - val_loss: 0.1540 - val_acc: 0.9410\n",
      "Epoch 6/30\n",
      "100/100 [==============================] - 665s 7s/step - loss: 0.0154 - acc: 0.9975 - val_loss: 0.1483 - val_acc: 0.9560\n",
      "Epoch 7/30\n",
      "100/100 [==============================] - 662s 7s/step - loss: 0.0125 - acc: 0.9965 - val_loss: 0.1830 - val_acc: 0.9470\n",
      "Epoch 8/30\n",
      "100/100 [==============================] - 663s 7s/step - loss: 0.0266 - acc: 0.9960 - val_loss: 0.1728 - val_acc: 0.9450\n",
      "Epoch 9/30\n",
      "100/100 [==============================] - 662s 7s/step - loss: 3.3257e-04 - acc: 1.0000 - val_loss: 0.4636 - val_acc: 0.9190\n",
      "Epoch 10/30\n",
      "100/100 [==============================] - 787s 8s/step - loss: 0.0096 - acc: 0.9965 - val_loss: 0.2015 - val_acc: 0.9550\n",
      "Epoch 11/30\n",
      "100/100 [==============================] - 662s 7s/step - loss: 0.0034 - acc: 0.9990 - val_loss: 0.2377 - val_acc: 0.9490\n",
      "Epoch 12/30\n",
      "100/100 [==============================] - 659s 7s/step - loss: 7.8182e-04 - acc: 0.9995 - val_loss: 0.2028 - val_acc: 0.9590\n",
      "Epoch 13/30\n",
      "100/100 [==============================] - 709s 7s/step - loss: 0.0122 - acc: 0.9980 - val_loss: 0.1737 - val_acc: 0.9590\n",
      "Epoch 14/30\n",
      "100/100 [==============================] - 674s 7s/step - loss: 6.3482e-06 - acc: 1.0000 - val_loss: 0.2527 - val_acc: 0.9580\n",
      "Epoch 15/30\n",
      "100/100 [==============================] - 708s 7s/step - loss: 0.0223 - acc: 0.9975 - val_loss: 0.1887 - val_acc: 0.9610\n",
      "Epoch 16/30\n",
      "100/100 [==============================] - 654s 7s/step - loss: 4.1280e-04 - acc: 1.0000 - val_loss: 0.2631 - val_acc: 0.9550\n",
      "Epoch 17/30\n",
      "100/100 [==============================] - 725s 7s/step - loss: 1.1201e-04 - acc: 1.0000 - val_loss: 0.2477 - val_acc: 0.9610\n",
      "Epoch 18/30\n",
      "100/100 [==============================] - 756s 8s/step - loss: 0.0110 - acc: 0.9985 - val_loss: 0.3159 - val_acc: 0.9520\n",
      "Epoch 19/30\n",
      "100/100 [==============================] - 653s 7s/step - loss: 0.0050 - acc: 0.9985 - val_loss: 0.2647 - val_acc: 0.9560\n",
      "Epoch 20/30\n",
      "100/100 [==============================] - 652s 7s/step - loss: 4.8695e-04 - acc: 1.0000 - val_loss: 0.2716 - val_acc: 0.9530\n",
      "Epoch 21/30\n",
      "100/100 [==============================] - 649s 6s/step - loss: 0.0034 - acc: 0.9995 - val_loss: 0.3502 - val_acc: 0.9490\n",
      "Epoch 22/30\n",
      "100/100 [==============================] - 648s 6s/step - loss: 7.0672e-05 - acc: 1.0000 - val_loss: 0.3107 - val_acc: 0.9510\n",
      "Epoch 23/30\n",
      "100/100 [==============================] - 651s 7s/step - loss: 0.0026 - acc: 0.9990 - val_loss: 0.2587 - val_acc: 0.9530\n",
      "Epoch 24/30\n",
      "100/100 [==============================] - 651s 7s/step - loss: 0.0302 - acc: 0.9965 - val_loss: 0.2550 - val_acc: 0.9540\n",
      "Epoch 25/30\n",
      "100/100 [==============================] - 650s 7s/step - loss: 7.9335e-06 - acc: 1.0000 - val_loss: 0.2723 - val_acc: 0.9560\n",
      "Epoch 26/30\n",
      "100/100 [==============================] - 651s 7s/step - loss: 6.2475e-08 - acc: 1.0000 - val_loss: 0.2956 - val_acc: 0.9610\n",
      "Epoch 27/30\n",
      "100/100 [==============================] - 649s 6s/step - loss: 4.3314e-09 - acc: 1.0000 - val_loss: 0.2976 - val_acc: 0.9630\n",
      "Epoch 28/30\n",
      "100/100 [==============================] - 651s 7s/step - loss: 1.0856e-09 - acc: 1.0000 - val_loss: 0.3068 - val_acc: 0.9600\n",
      "Epoch 29/30\n",
      "100/100 [==============================] - 658s 7s/step - loss: 8.4343e-10 - acc: 1.0000 - val_loss: 0.3098 - val_acc: 0.9600\n",
      "Epoch 30/30\n",
      "100/100 [==============================] - 728s 7s/step - loss: 6.7458e-10 - acc: 1.0000 - val_loss: 0.3130 - val_acc: 0.9600\n"
     ]
    }
   ],
   "source": [
    "history = model.fit_generator(train_generator,\n",
    "                             steps_per_epoch=100,\n",
    "                             epochs=30,\n",
    "                             validation_data=validation_generator,\n",
    "                             validation_steps=50,\n",
    "                             callbacks=[checkpoint_cb])"
   ]
  },
  {
   "cell_type": "code",
   "execution_count": 23,
   "id": "1d5939f0",
   "metadata": {},
   "outputs": [
    {
     "data": {
      "image/png": "[encoded data removed]",
      "text/plain": [
       "<Figure size 576x360 with 1 Axes>"
      ]
     },
     "metadata": {
      "needs_background": "light"
     },
     "output_type": "display_data"
    }
   ],
   "source": [
    "pd.DataFrame(history.history).plot(figsize=(8,5))\n",
    "plt.grid(True)\n",
    "plt.gca().set_ylim(0,1)\n",
    "plt.show()"
   ]
  },
  {
   "cell_type": "code",
   "execution_count": 24,
   "id": "a49d6437",
   "metadata": {},
   "outputs": [],
   "source": [
    "hist_df = pd.DataFrame(history.history)"
   ]
  },
  {
   "cell_type": "code",
   "execution_count": 25,
   "id": "226b5907",
   "metadata": {},
   "outputs": [],
   "source": [
    "hist_csv_file = 'history.csv'\n",
    "with open(hist_csv_file, mode='w') as f:\n",
    "    hist_df.to_csv(f)"
   ]
  },
  {
   "cell_type": "code",
   "execution_count": 26,
   "id": "f44950a6",
   "metadata": {},
   "outputs": [
    {
     "name": "stdout",
     "output_type": "stream",
     "text": [
      "Found 1000 images belonging to 2 classes.\n"
     ]
    }
   ],
   "source": [
    "test_generator = test_datagen.flow_from_directory(test_dir,\n",
    "                                                 target_size=(150,150),\n",
    "                                                 batch_size=20,\n",
    "                                                 class_mode=\"binary\")"
   ]
  },
  {
   "cell_type": "code",
   "execution_count": 27,
   "id": "9a75acca",
   "metadata": {},
   "outputs": [
    {
     "name": "stdout",
     "output_type": "stream",
     "text": [
      "WARNING:tensorflow:From C:\\Users\\Arpit\\AppData\\Local\\Temp\\ipykernel_7464\\421928545.py:1: Model.evaluate_generator (from tensorflow.python.keras.engine.training) is deprecated and will be removed in a future version.\n",
      "Instructions for updating:\n",
      "Please use Model.evaluate, which supports generators.\n"
     ]
    },
    {
     "data": {
      "text/plain": [
       "[0.355194091796875, 0.9490000009536743]"
      ]
     },
     "execution_count": 27,
     "metadata": {},
     "output_type": "execute_result"
    }
   ],
   "source": [
    "model.evaluate_generator(test_generator, steps=50)"
   ]
  },
  {
   "cell_type": "code",
   "execution_count": null,
   "id": "80c2cf48",
   "metadata": {},
   "outputs": [],
   "source": []
  }
 ],
 "metadata": {
  "kernelspec": {
   "display_name": "Python 3 (ipykernel)",
   "language": "python",
   "name": "python3"
  },
  "language_info": {
   "codemirror_mode": {
    "name": "ipython",
    "version": 3
   },
   "file_extension": ".py",
   "mimetype": "text/x-python",
   "name": "python",
   "nbconvert_exporter": "python",
   "pygments_lexer": "ipython3",
   "version": "3.8.13"
  }
 },
 "nbformat": 4,
 "nbformat_minor": 5
}
