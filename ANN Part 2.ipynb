{
 "cells": [
  {
   "cell_type": "code",
   "execution_count": 1,
   "id": "24a3a727",
   "metadata": {},
   "outputs": [],
   "source": [
    "import numpy as np\n",
    "import pandas as pd\n",
    "%matplotlib inline\n",
    "import matplotlib.pyplot as plt\n",
    "import matplotlib as mpl"
   ]
  },
  {
   "cell_type": "code",
   "execution_count": 2,
   "id": "b1705a16",
   "metadata": {},
   "outputs": [],
   "source": [
    "import tensorflow as tf\n",
    "from tensorflow import keras"
   ]
  },
  {
   "cell_type": "code",
   "execution_count": 3,
   "id": "a46e99c6",
   "metadata": {},
   "outputs": [],
   "source": [
    "from sklearn.datasets import fetch_california_housing\n",
    "housing = fetch_california_housing()"
   ]
  },
  {
   "cell_type": "markdown",
   "id": "53869fe7",
   "metadata": {},
   "source": [
    "## Data Set Characteristic\n",
    "\n",
    "### Number of Instances\n",
    "20640\n",
    "\n",
    "### Number of Attributes\n",
    "8 numeric, predictive attributes and the target\n",
    "\n",
    "### Attributes Information\n",
    "\n",
    "1. MedInc median income in block\n",
    "2. HouseAge median house age in block\n",
    "3. AveRooms average number of rooms\n",
    "4. AveBedrms average number of bedrooms\n",
    "5. Population block population\n",
    "6. AveOccup average house occupancy\n",
    "7. Latitude house block latitude\n",
    "8. Longitude house block longitude\n",
    "\n",
    "### Target \n",
    "\n",
    "The target variable is the meedian house value in units of 100,000 for California districts\n"
   ]
  },
  {
   "cell_type": "code",
   "execution_count": 4,
   "id": "be82e84e",
   "metadata": {},
   "outputs": [
    {
     "name": "stdout",
     "output_type": "stream",
     "text": [
      "['MedInc', 'HouseAge', 'AveRooms', 'AveBedrms', 'Population', 'AveOccup', 'Latitude', 'Longitude']\n"
     ]
    }
   ],
   "source": [
    "print(housing.feature_names)"
   ]
  },
  {
   "cell_type": "code",
   "execution_count": 5,
   "id": "c16190ff",
   "metadata": {},
   "outputs": [],
   "source": [
    "from sklearn.model_selection import train_test_split\n",
    "X_train_full,X_test, y_train_full, y_test = train_test_split(housing.data, housing.target, random_state=42)\n",
    "X_train, X_valid, y_train, y_valid = train_test_split(X_train_full, y_train_full, random_state=42)"
   ]
  },
  {
   "cell_type": "code",
   "execution_count": 6,
   "id": "52e2e4af",
   "metadata": {},
   "outputs": [],
   "source": [
    "from sklearn.preprocessing import StandardScaler\n",
    "scaler = StandardScaler()\n",
    "X_train = scaler.fit_transform(X_train)\n",
    "X_valid = scaler.fit_transform(X_valid)\n",
    "X_test = scaler.fit_transform(X_test)"
   ]
  },
  {
   "cell_type": "code",
   "execution_count": 7,
   "id": "3f4ae948",
   "metadata": {},
   "outputs": [],
   "source": [
    "np.random.seed(42)\n",
    "tf.random.set_seed(42)"
   ]
  },
  {
   "cell_type": "code",
   "execution_count": 8,
   "id": "842ef5f4",
   "metadata": {},
   "outputs": [
    {
     "data": {
      "text/plain": [
       "(11610, 8)"
      ]
     },
     "execution_count": 8,
     "metadata": {},
     "output_type": "execute_result"
    }
   ],
   "source": [
    "X_train.shape"
   ]
  },
  {
   "cell_type": "code",
   "execution_count": 9,
   "id": "6742f4fd",
   "metadata": {},
   "outputs": [],
   "source": [
    "model = keras.models.Sequential([\n",
    "    keras.layers.Dense(30, activation=\"relu\", input_shape=(8,)),\n",
    "    keras.layers.Dense(30, activation=\"relu\"),\n",
    "    keras.layers.Dense(1)\n",
    "])"
   ]
  },
  {
   "cell_type": "code",
   "execution_count": 10,
   "id": "1544c1f6",
   "metadata": {},
   "outputs": [
    {
     "name": "stdout",
     "output_type": "stream",
     "text": [
      "Model: \"sequential\"\n",
      "_________________________________________________________________\n",
      "Layer (type)                 Output Shape              Param #   \n",
      "=================================================================\n",
      "dense (Dense)                (None, 30)                270       \n",
      "_________________________________________________________________\n",
      "dense_1 (Dense)              (None, 30)                930       \n",
      "_________________________________________________________________\n",
      "dense_2 (Dense)              (None, 1)                 31        \n",
      "=================================================================\n",
      "Total params: 1,231\n",
      "Trainable params: 1,231\n",
      "Non-trainable params: 0\n",
      "_________________________________________________________________\n"
     ]
    }
   ],
   "source": [
    "model.summary()"
   ]
  },
  {
   "cell_type": "code",
   "execution_count": 11,
   "id": "eed03b24",
   "metadata": {},
   "outputs": [],
   "source": [
    "model.compile(loss=\"mean_squared_error\",\n",
    "             optimizer=keras.optimizers.SGD(lr=1e-3),\n",
    "             metrics=[\"mae\"])"
   ]
  },
  {
   "cell_type": "code",
   "execution_count": 12,
   "id": "12415376",
   "metadata": {},
   "outputs": [
    {
     "name": "stdout",
     "output_type": "stream",
     "text": [
      "Epoch 1/20\n",
      "  1/363 [..............................] - ETA: 0s - loss: 7.8215 - mae: 2.5816WARNING:tensorflow:Callbacks method `on_train_batch_end` is slow compared to the batch time (batch time: 0.0000s vs `on_train_batch_end` time: 0.0080s). Check your callbacks.\n",
      "363/363 [==============================] - 2s 5ms/step - loss: 1.8866 - mae: 0.9900 - val_loss: 0.7414 - val_mae: 0.6560\n",
      "Epoch 2/20\n",
      "363/363 [==============================] - 1s 3ms/step - loss: 0.6577 - mae: 0.6042 - val_loss: 0.6221 - val_mae: 0.5870\n",
      "Epoch 3/20\n",
      "363/363 [==============================] - 1s 3ms/step - loss: 0.5934 - mae: 0.5618 - val_loss: 0.5779 - val_mae: 0.5550\n",
      "Epoch 4/20\n",
      "363/363 [==============================] - 1s 3ms/step - loss: 0.5557 - mae: 0.5398 - val_loss: 0.5572 - val_mae: 0.5496\n",
      "Epoch 5/20\n",
      "363/363 [==============================] - 1s 3ms/step - loss: 0.5272 - mae: 0.5237 - val_loss: 0.5305 - val_mae: 0.5319\n",
      "Epoch 6/20\n",
      "363/363 [==============================] - 1s 3ms/step - loss: 0.5033 - mae: 0.5113 - val_loss: 0.5113 - val_mae: 0.5224\n",
      "Epoch 7/20\n",
      "363/363 [==============================] - 1s 3ms/step - loss: 0.4854 - mae: 0.5010 - val_loss: 0.4974 - val_mae: 0.5151\n",
      "Epoch 8/20\n",
      "363/363 [==============================] - 1s 3ms/step - loss: 0.4709 - mae: 0.4924 - val_loss: 0.4903 - val_mae: 0.5109\n",
      "Epoch 9/20\n",
      "363/363 [==============================] - 1s 3ms/step - loss: 0.4578 - mae: 0.4857 - val_loss: 0.4773 - val_mae: 0.5029\n",
      "Epoch 10/20\n",
      "363/363 [==============================] - 1s 3ms/step - loss: 0.4474 - mae: 0.4797 - val_loss: 0.4696 - val_mae: 0.4988\n",
      "Epoch 11/20\n",
      "363/363 [==============================] - 1s 3ms/step - loss: 0.4393 - mae: 0.4744 - val_loss: 0.4704 - val_mae: 0.5039\n",
      "Epoch 12/20\n",
      "363/363 [==============================] - 1s 3ms/step - loss: 0.4318 - mae: 0.4703 - val_loss: 0.4590 - val_mae: 0.4942\n",
      "Epoch 13/20\n",
      "363/363 [==============================] - 1s 3ms/step - loss: 0.4261 - mae: 0.4674 - val_loss: 0.4587 - val_mae: 0.4963\n",
      "Epoch 14/20\n",
      "363/363 [==============================] - 1s 3ms/step - loss: 0.4202 - mae: 0.4636 - val_loss: 0.4550 - val_mae: 0.4951\n",
      "Epoch 15/20\n",
      "363/363 [==============================] - 1s 3ms/step - loss: 0.4155 - mae: 0.4613 - val_loss: 0.4507 - val_mae: 0.4904\n",
      "Epoch 16/20\n",
      "363/363 [==============================] - 1s 3ms/step - loss: 0.4112 - mae: 0.4591 - val_loss: 0.4458 - val_mae: 0.4876\n",
      "Epoch 17/20\n",
      "363/363 [==============================] - 1s 3ms/step - loss: 0.4077 - mae: 0.4569 - val_loss: 0.4431 - val_mae: 0.4835\n",
      "Epoch 18/20\n",
      "363/363 [==============================] - 1s 3ms/step - loss: 0.4040 - mae: 0.4545 - val_loss: 0.4418 - val_mae: 0.4822\n",
      "Epoch 19/20\n",
      "363/363 [==============================] - 1s 3ms/step - loss: 0.4004 - mae: 0.4521 - val_loss: 0.4388 - val_mae: 0.4807\n",
      "Epoch 20/20\n",
      "363/363 [==============================] - 1s 3ms/step - loss: 0.3980 - mae: 0.4508 - val_loss: 0.4383 - val_mae: 0.4820\n"
     ]
    }
   ],
   "source": [
    "model_history = model.fit(X_train,y_train, epochs=20, validation_data=(X_valid, y_valid))"
   ]
  },
  {
   "cell_type": "code",
   "execution_count": 13,
   "id": "6aeada47",
   "metadata": {},
   "outputs": [
    {
     "name": "stdout",
     "output_type": "stream",
     "text": [
      "162/162 [==============================] - 0s 2ms/step - loss: 0.3993 - mae: 0.4595\n"
     ]
    }
   ],
   "source": [
    "mae_test= model.evaluate(X_test, y_test)"
   ]
  },
  {
   "cell_type": "code",
   "execution_count": 14,
   "id": "3ca3901f",
   "metadata": {},
   "outputs": [
    {
     "data": {
      "text/plain": [
       "{'loss': [1.8866397142410278,\n",
       "  0.6577126979827881,\n",
       "  0.593418538570404,\n",
       "  0.5557191371917725,\n",
       "  0.5271904468536377,\n",
       "  0.5032975673675537,\n",
       "  0.48535552620887756,\n",
       "  0.47091808915138245,\n",
       "  0.45779937505722046,\n",
       "  0.4474469721317291,\n",
       "  0.4393136501312256,\n",
       "  0.43176087737083435,\n",
       "  0.42605164647102356,\n",
       "  0.42017653584480286,\n",
       "  0.41549986600875854,\n",
       "  0.4111650288105011,\n",
       "  0.4077068865299225,\n",
       "  0.40395283699035645,\n",
       "  0.4004494547843933,\n",
       "  0.39796024560928345],\n",
       " 'mae': [0.9900256991386414,\n",
       "  0.6041509509086609,\n",
       "  0.5618006587028503,\n",
       "  0.5398454070091248,\n",
       "  0.5237293839454651,\n",
       "  0.5112563371658325,\n",
       "  0.5010154247283936,\n",
       "  0.492448091506958,\n",
       "  0.4857262969017029,\n",
       "  0.4797375202178955,\n",
       "  0.4744163453578949,\n",
       "  0.4703480303287506,\n",
       "  0.46740883588790894,\n",
       "  0.46360209584236145,\n",
       "  0.461266428232193,\n",
       "  0.4591343402862549,\n",
       "  0.45687004923820496,\n",
       "  0.4545365273952484,\n",
       "  0.4521065056324005,\n",
       "  0.45083147287368774],\n",
       " 'val_loss': [0.7413728833198547,\n",
       "  0.6220595240592957,\n",
       "  0.5779173374176025,\n",
       "  0.5571869611740112,\n",
       "  0.5305212736129761,\n",
       "  0.5112658739089966,\n",
       "  0.49737152457237244,\n",
       "  0.49032697081565857,\n",
       "  0.4772711396217346,\n",
       "  0.4695732593536377,\n",
       "  0.4703766703605652,\n",
       "  0.45901522040367126,\n",
       "  0.45866554975509644,\n",
       "  0.45500877499580383,\n",
       "  0.45073699951171875,\n",
       "  0.44580546021461487,\n",
       "  0.4431248605251312,\n",
       "  0.44182002544403076,\n",
       "  0.4387696385383606,\n",
       "  0.43828633427619934],\n",
       " 'val_mae': [0.6560153365135193,\n",
       "  0.5870209336280823,\n",
       "  0.5550429821014404,\n",
       "  0.5495700240135193,\n",
       "  0.5318752527236938,\n",
       "  0.5223987698554993,\n",
       "  0.5151413083076477,\n",
       "  0.5109214186668396,\n",
       "  0.502907931804657,\n",
       "  0.4988013803958893,\n",
       "  0.503919243812561,\n",
       "  0.4942389726638794,\n",
       "  0.4962693154811859,\n",
       "  0.4951176047325134,\n",
       "  0.49042701721191406,\n",
       "  0.48755040764808655,\n",
       "  0.4834802448749542,\n",
       "  0.4822426438331604,\n",
       "  0.4806600511074066,\n",
       "  0.48197242617607117]}"
      ]
     },
     "execution_count": 14,
     "metadata": {},
     "output_type": "execute_result"
    }
   ],
   "source": [
    "model_history.history"
   ]
  },
  {
   "cell_type": "code",
   "execution_count": 15,
   "id": "347cdd33",
   "metadata": {},
   "outputs": [
    {
     "data": {
      "image/png": "[encoded data removed]",
      "text/plain": [
       "<Figure size 576x360 with 1 Axes>"
      ]
     },
     "metadata": {
      "needs_background": "light"
     },
     "output_type": "display_data"
    }
   ],
   "source": [
    "pd.DataFrame(model_history.history).plot(figsize=(8,5))\n",
    "plt.grid(True)\n",
    "plt.gca().set_ylim(0,1)\n",
    "\n",
    "plt.show()"
   ]
  },
  {
   "cell_type": "code",
   "execution_count": 16,
   "id": "a342efd6",
   "metadata": {},
   "outputs": [],
   "source": [
    "X_new = X_test[:3]"
   ]
  },
  {
   "cell_type": "code",
   "execution_count": 17,
   "id": "6aff3b95",
   "metadata": {},
   "outputs": [],
   "source": [
    "y_pred = model.predict(X_new)"
   ]
  },
  {
   "cell_type": "code",
   "execution_count": 18,
   "id": "de539e2a",
   "metadata": {},
   "outputs": [
    {
     "name": "stdout",
     "output_type": "stream",
     "text": [
      "[[0.48965678]\n",
      " [1.9347277 ]\n",
      " [3.6413553 ]]\n"
     ]
    }
   ],
   "source": [
    "print(y_pred)"
   ]
  },
  {
   "cell_type": "code",
   "execution_count": 19,
   "id": "1c4f4abe",
   "metadata": {},
   "outputs": [
    {
     "name": "stdout",
     "output_type": "stream",
     "text": [
      "[0.477   0.458   5.00001]\n"
     ]
    }
   ],
   "source": [
    "print(y_test[:3])"
   ]
  },
  {
   "cell_type": "code",
   "execution_count": 20,
   "id": "3d59796d",
   "metadata": {},
   "outputs": [],
   "source": [
    "del model"
   ]
  },
  {
   "cell_type": "code",
   "execution_count": 21,
   "id": "035e79a3",
   "metadata": {},
   "outputs": [],
   "source": [
    "keras.backend.clear_session()"
   ]
  },
  {
   "cell_type": "markdown",
   "id": "b4d165cc",
   "metadata": {},
   "source": [
    "## Functional API\n",
    "\n",
    "Not all neural network models are simply sequential. Some may have complex topologies. Some may have multiple inputs and/or multiple outputs. For example, a wide & Deep neural network connects all or part of the inputs directly to the output layer"
   ]
  },
  {
   "cell_type": "code",
   "execution_count": 22,
   "id": "6a322ea5",
   "metadata": {},
   "outputs": [],
   "source": [
    "input_ = keras.layers.Input(shape=X_train.shape[1:])\n",
    "hidden1 = keras.layers.Dense(30, activation=\"relu\")(input_)\n",
    "hidden2 = keras.layers.Dense(30, activation=\"relu\")(hidden1)\n",
    "concat = keras.layers.concatenate([input_, hidden2])\n",
    "output = keras.layers.Dense(1)(concat)\n",
    "model = keras.models.Model(inputs=[input_],outputs=[output])\n"
   ]
  },
  {
   "cell_type": "code",
   "execution_count": 23,
   "id": "721babb6",
   "metadata": {},
   "outputs": [
    {
     "name": "stdout",
     "output_type": "stream",
     "text": [
      "Model: \"functional_1\"\n",
      "__________________________________________________________________________________________________\n",
      "Layer (type)                    Output Shape         Param #     Connected to                     \n",
      "==================================================================================================\n",
      "input_1 (InputLayer)            [(None, 8)]          0                                            \n",
      "__________________________________________________________________________________________________\n",
      "dense (Dense)                   (None, 30)           270         input_1[0][0]                    \n",
      "__________________________________________________________________________________________________\n",
      "dense_1 (Dense)                 (None, 30)           930         dense[0][0]                      \n",
      "__________________________________________________________________________________________________\n",
      "concatenate (Concatenate)       (None, 38)           0           input_1[0][0]                    \n",
      "                                                                 dense_1[0][0]                    \n",
      "__________________________________________________________________________________________________\n",
      "dense_2 (Dense)                 (None, 1)            39          concatenate[0][0]                \n",
      "==================================================================================================\n",
      "Total params: 1,239\n",
      "Trainable params: 1,239\n",
      "Non-trainable params: 0\n",
      "__________________________________________________________________________________________________\n"
     ]
    }
   ],
   "source": [
    "model.summary()"
   ]
  },
  {
   "cell_type": "code",
   "execution_count": 24,
   "id": "afdbb632",
   "metadata": {},
   "outputs": [],
   "source": [
    " model.compile(loss=\"mean_squared_error\",\n",
    "              optimizer=keras.optimizers.SGD(lr=1e-3),\n",
    "              metrics=[\"mae\"])"
   ]
  },
  {
   "cell_type": "code",
   "execution_count": 25,
   "id": "00c1267c",
   "metadata": {},
   "outputs": [
    {
     "name": "stdout",
     "output_type": "stream",
     "text": [
      "Epoch 1/40\n",
      "363/363 [==============================] - 1s 4ms/step - loss: 1.6920 - mae: 0.8893 - val_loss: 0.7316 - val_mae: 0.6088\n",
      "Epoch 2/40\n",
      "363/363 [==============================] - 1s 3ms/step - loss: 0.6836 - mae: 0.5994 - val_loss: 0.6670 - val_mae: 0.5999\n",
      "Epoch 3/40\n",
      "363/363 [==============================] - 1s 3ms/step - loss: 0.6265 - mae: 0.5775 - val_loss: 0.6248 - val_mae: 0.5768\n",
      "Epoch 4/40\n",
      "363/363 [==============================] - 1s 3ms/step - loss: 0.5877 - mae: 0.5581 - val_loss: 0.5963 - val_mae: 0.5662\n",
      "Epoch 5/40\n",
      "363/363 [==============================] - 1s 3ms/step - loss: 0.5566 - mae: 0.5421 - val_loss: 0.5699 - val_mae: 0.5521\n",
      "Epoch 6/40\n",
      "363/363 [==============================] - 1s 3ms/step - loss: 0.5312 - mae: 0.5298 - val_loss: 0.5498 - val_mae: 0.5416\n",
      "Epoch 7/40\n",
      "363/363 [==============================] - 1s 3ms/step - loss: 0.5108 - mae: 0.5186 - val_loss: 0.5336 - val_mae: 0.5350\n",
      "Epoch 8/40\n",
      "363/363 [==============================] - 1s 3ms/step - loss: 0.4952 - mae: 0.5096 - val_loss: 0.5219 - val_mae: 0.5292\n",
      "Epoch 9/40\n",
      "363/363 [==============================] - 1s 3ms/step - loss: 0.4802 - mae: 0.5025 - val_loss: 0.5099 - val_mae: 0.5216\n",
      "Epoch 10/40\n",
      "363/363 [==============================] - 1s 3ms/step - loss: 0.4685 - mae: 0.4959 - val_loss: 0.4996 - val_mae: 0.5158\n",
      "Epoch 11/40\n",
      "363/363 [==============================] - 1s 3ms/step - loss: 0.4590 - mae: 0.4897 - val_loss: 0.4957 - val_mae: 0.5174\n",
      "Epoch 12/40\n",
      "363/363 [==============================] - 1s 3ms/step - loss: 0.4502 - mae: 0.4851 - val_loss: 0.4861 - val_mae: 0.5098\n",
      "Epoch 13/40\n",
      "363/363 [==============================] - 1s 3ms/step - loss: 0.4433 - mae: 0.4811 - val_loss: 0.4822 - val_mae: 0.5098\n",
      "Epoch 14/40\n",
      "363/363 [==============================] - 1s 3ms/step - loss: 0.4363 - mae: 0.4766 - val_loss: 0.4775 - val_mae: 0.5077\n",
      "Epoch 15/40\n",
      "363/363 [==============================] - 1s 3ms/step - loss: 0.4306 - mae: 0.4736 - val_loss: 0.4720 - val_mae: 0.5028\n",
      "Epoch 16/40\n",
      "363/363 [==============================] - 1s 3ms/step - loss: 0.4253 - mae: 0.4703 - val_loss: 0.4682 - val_mae: 0.5011\n",
      "Epoch 17/40\n",
      "363/363 [==============================] - 1s 3ms/step - loss: 0.4213 - mae: 0.4676 - val_loss: 0.4646 - val_mae: 0.4971\n",
      "Epoch 18/40\n",
      "363/363 [==============================] - 1s 3ms/step - loss: 0.4168 - mae: 0.4650 - val_loss: 0.4620 - val_mae: 0.4952\n",
      "Epoch 19/40\n",
      "363/363 [==============================] - 1s 3ms/step - loss: 0.4126 - mae: 0.4616 - val_loss: 0.4599 - val_mae: 0.4941\n",
      "Epoch 20/40\n",
      "363/363 [==============================] - 1s 3ms/step - loss: 0.4096 - mae: 0.4600 - val_loss: 0.4570 - val_mae: 0.4946\n",
      "Epoch 21/40\n",
      "363/363 [==============================] - 1s 3ms/step - loss: 0.4060 - mae: 0.4573 - val_loss: 0.4557 - val_mae: 0.4952\n",
      "Epoch 22/40\n",
      "363/363 [==============================] - 1s 3ms/step - loss: 0.4029 - mae: 0.4559 - val_loss: 0.4537 - val_mae: 0.4929\n",
      "Epoch 23/40\n",
      "363/363 [==============================] - 1s 3ms/step - loss: 0.4000 - mae: 0.4542 - val_loss: 0.4493 - val_mae: 0.4846\n",
      "Epoch 24/40\n",
      "363/363 [==============================] - 1s 3ms/step - loss: 0.3972 - mae: 0.4515 - val_loss: 0.4493 - val_mae: 0.4857\n",
      "Epoch 25/40\n",
      "363/363 [==============================] - 1s 3ms/step - loss: 0.3946 - mae: 0.4502 - val_loss: 0.4459 - val_mae: 0.4844\n",
      "Epoch 26/40\n",
      "363/363 [==============================] - 1s 3ms/step - loss: 0.3925 - mae: 0.4488 - val_loss: 0.4444 - val_mae: 0.4829\n",
      "Epoch 27/40\n",
      "363/363 [==============================] - 1s 3ms/step - loss: 0.3905 - mae: 0.4472 - val_loss: 0.4428 - val_mae: 0.4819\n",
      "Epoch 28/40\n",
      "363/363 [==============================] - 1s 3ms/step - loss: 0.3885 - mae: 0.4455 - val_loss: 0.4440 - val_mae: 0.4862\n",
      "Epoch 29/40\n",
      "363/363 [==============================] - 1s 3ms/step - loss: 0.3867 - mae: 0.4448 - val_loss: 0.4417 - val_mae: 0.4836\n",
      "Epoch 30/40\n",
      "363/363 [==============================] - 1s 3ms/step - loss: 0.3848 - mae: 0.4435 - val_loss: 0.4408 - val_mae: 0.4798\n",
      "Epoch 31/40\n",
      "363/363 [==============================] - 1s 3ms/step - loss: 0.3830 - mae: 0.4420 - val_loss: 0.4398 - val_mae: 0.4785\n",
      "Epoch 32/40\n",
      "363/363 [==============================] - 1s 3ms/step - loss: 0.3816 - mae: 0.4410 - val_loss: 0.4415 - val_mae: 0.4842\n",
      "Epoch 33/40\n",
      "363/363 [==============================] - 1s 3ms/step - loss: 0.3805 - mae: 0.4408 - val_loss: 0.4378 - val_mae: 0.4794\n",
      "Epoch 34/40\n",
      "363/363 [==============================] - 1s 3ms/step - loss: 0.3787 - mae: 0.4393 - val_loss: 0.4379 - val_mae: 0.4792\n",
      "Epoch 35/40\n",
      "363/363 [==============================] - 1s 3ms/step - loss: 0.3776 - mae: 0.4383 - val_loss: 0.4383 - val_mae: 0.4812\n",
      "Epoch 36/40\n",
      "363/363 [==============================] - 1s 3ms/step - loss: 0.3763 - mae: 0.4379 - val_loss: 0.4351 - val_mae: 0.4747\n",
      "Epoch 37/40\n",
      "363/363 [==============================] - 1s 3ms/step - loss: 0.3751 - mae: 0.4365 - val_loss: 0.4353 - val_mae: 0.4771\n",
      "Epoch 38/40\n",
      "363/363 [==============================] - 1s 3ms/step - loss: 0.3741 - mae: 0.4362 - val_loss: 0.4338 - val_mae: 0.4747\n",
      "Epoch 39/40\n",
      "363/363 [==============================] - 1s 3ms/step - loss: 0.3728 - mae: 0.4352 - val_loss: 0.4333 - val_mae: 0.4731\n",
      "Epoch 40/40\n",
      "363/363 [==============================] - 1s 3ms/step - loss: 0.3716 - mae: 0.4345 - val_loss: 0.4319 - val_mae: 0.4704\n"
     ]
    }
   ],
   "source": [
    "model_history = model.fit(X_train,y_train, epochs=40, validation_data=(X_valid,y_valid))"
   ]
  },
  {
   "cell_type": "code",
   "execution_count": 26,
   "id": "74a58413",
   "metadata": {},
   "outputs": [
    {
     "name": "stdout",
     "output_type": "stream",
     "text": [
      "162/162 [==============================] - 0s 2ms/step - loss: 0.3903 - mae: 0.4530\n"
     ]
    }
   ],
   "source": [
    "mae_test = model.evaluate(X_test,y_test)"
   ]
  },
  {
   "cell_type": "code",
   "execution_count": 27,
   "id": "0d9f8fc5",
   "metadata": {},
   "outputs": [
    {
     "data": {
      "text/plain": [
       "{'loss': [1.6920058727264404,\n",
       "  0.6836402416229248,\n",
       "  0.626488208770752,\n",
       "  0.5877465605735779,\n",
       "  0.5565560460090637,\n",
       "  0.5311981439590454,\n",
       "  0.5107864141464233,\n",
       "  0.4951667785644531,\n",
       "  0.4802228510379791,\n",
       "  0.4684668779373169,\n",
       "  0.4589638113975525,\n",
       "  0.45022013783454895,\n",
       "  0.4432655870914459,\n",
       "  0.4363251328468323,\n",
       "  0.4306240975856781,\n",
       "  0.425344318151474,\n",
       "  0.4212935268878937,\n",
       "  0.41681814193725586,\n",
       "  0.4126456081867218,\n",
       "  0.4095860421657562,\n",
       "  0.40596330165863037,\n",
       "  0.4029441177845001,\n",
       "  0.4000454545021057,\n",
       "  0.3971884548664093,\n",
       "  0.394621342420578,\n",
       "  0.39249080419540405,\n",
       "  0.39049339294433594,\n",
       "  0.38845276832580566,\n",
       "  0.3867104947566986,\n",
       "  0.38484394550323486,\n",
       "  0.38295260071754456,\n",
       "  0.3815838396549225,\n",
       "  0.3805270493030548,\n",
       "  0.3787004351615906,\n",
       "  0.3775610029697418,\n",
       "  0.37629953026771545,\n",
       "  0.3750823438167572,\n",
       "  0.37408900260925293,\n",
       "  0.37281930446624756,\n",
       "  0.3716435730457306],\n",
       " 'mae': [0.8892966508865356,\n",
       "  0.5993584394454956,\n",
       "  0.5774792432785034,\n",
       "  0.558142364025116,\n",
       "  0.542133629322052,\n",
       "  0.5297517776489258,\n",
       "  0.5185920596122742,\n",
       "  0.5096290111541748,\n",
       "  0.5025359988212585,\n",
       "  0.4959278702735901,\n",
       "  0.4896956980228424,\n",
       "  0.48507025837898254,\n",
       "  0.48114848136901855,\n",
       "  0.4765699505805969,\n",
       "  0.47358405590057373,\n",
       "  0.4702601432800293,\n",
       "  0.46760010719299316,\n",
       "  0.4649646282196045,\n",
       "  0.46159082651138306,\n",
       "  0.4600440561771393,\n",
       "  0.45732977986335754,\n",
       "  0.4559227228164673,\n",
       "  0.45419707894325256,\n",
       "  0.4514613151550293,\n",
       "  0.45023712515830994,\n",
       "  0.4487707316875458,\n",
       "  0.447237104177475,\n",
       "  0.44550418853759766,\n",
       "  0.4448135793209076,\n",
       "  0.4434995949268341,\n",
       "  0.4420064389705658,\n",
       "  0.44095101952552795,\n",
       "  0.44078370928764343,\n",
       "  0.4392606019973755,\n",
       "  0.4382893145084381,\n",
       "  0.43786460161209106,\n",
       "  0.4365346133708954,\n",
       "  0.43622082471847534,\n",
       "  0.43521714210510254,\n",
       "  0.4344911277294159],\n",
       " 'val_loss': [0.7316026091575623,\n",
       "  0.6670111417770386,\n",
       "  0.6248145699501038,\n",
       "  0.5962962508201599,\n",
       "  0.5698728561401367,\n",
       "  0.5497602820396423,\n",
       "  0.5335991382598877,\n",
       "  0.5219138264656067,\n",
       "  0.5099009275436401,\n",
       "  0.499554306268692,\n",
       "  0.4957387149333954,\n",
       "  0.4861196279525757,\n",
       "  0.4821736216545105,\n",
       "  0.4775131940841675,\n",
       "  0.47201767563819885,\n",
       "  0.4681845009326935,\n",
       "  0.46458548307418823,\n",
       "  0.4620439112186432,\n",
       "  0.4599209129810333,\n",
       "  0.4570344388484955,\n",
       "  0.4557373821735382,\n",
       "  0.4536665976047516,\n",
       "  0.44925549626350403,\n",
       "  0.44933998584747314,\n",
       "  0.4459399878978729,\n",
       "  0.44437357783317566,\n",
       "  0.44278356432914734,\n",
       "  0.44401854276657104,\n",
       "  0.4416634142398834,\n",
       "  0.4407868981361389,\n",
       "  0.43978410959243774,\n",
       "  0.4414546489715576,\n",
       "  0.437818706035614,\n",
       "  0.43789371848106384,\n",
       "  0.4383172392845154,\n",
       "  0.43512415885925293,\n",
       "  0.4353286623954773,\n",
       "  0.43380749225616455,\n",
       "  0.4332597255706787,\n",
       "  0.43194687366485596],\n",
       " 'val_mae': [0.6088433265686035,\n",
       "  0.599923312664032,\n",
       "  0.5767661929130554,\n",
       "  0.56622713804245,\n",
       "  0.5520627498626709,\n",
       "  0.5416089296340942,\n",
       "  0.534995973110199,\n",
       "  0.5292076468467712,\n",
       "  0.521611213684082,\n",
       "  0.5158281326293945,\n",
       "  0.5174273252487183,\n",
       "  0.5098351240158081,\n",
       "  0.5098158717155457,\n",
       "  0.5077088475227356,\n",
       "  0.5028348565101624,\n",
       "  0.5010974407196045,\n",
       "  0.49712929129600525,\n",
       "  0.49523869156837463,\n",
       "  0.4941202998161316,\n",
       "  0.49458613991737366,\n",
       "  0.49523964524269104,\n",
       "  0.49294355511665344,\n",
       "  0.4845533072948456,\n",
       "  0.48572826385498047,\n",
       "  0.4844430983066559,\n",
       "  0.4828881025314331,\n",
       "  0.48188427090644836,\n",
       "  0.48617249727249146,\n",
       "  0.48355525732040405,\n",
       "  0.479770302772522,\n",
       "  0.4785410761833191,\n",
       "  0.48422035574913025,\n",
       "  0.4793627858161926,\n",
       "  0.47923189401626587,\n",
       "  0.48116713762283325,\n",
       "  0.47467848658561707,\n",
       "  0.4770536720752716,\n",
       "  0.47471269965171814,\n",
       "  0.47314512729644775,\n",
       "  0.4704027473926544]}"
      ]
     },
     "execution_count": 27,
     "metadata": {},
     "output_type": "execute_result"
    }
   ],
   "source": [
    "model_history.history"
   ]
  },
  {
   "cell_type": "code",
   "execution_count": 28,
   "id": "aa49701d",
   "metadata": {},
   "outputs": [
    {
     "data": {
      "image/png": "[encoded data removed]",
      "text/plain": [
       "<Figure size 576x360 with 1 Axes>"
      ]
     },
     "metadata": {
      "needs_background": "light"
     },
     "output_type": "display_data"
    }
   ],
   "source": [
    "pd.DataFrame(model_history.history).plot(figsize=(8,5))\n",
    "plt.grid(True)\n",
    "plt.gca().set_ylim(0,1)\n",
    "\n",
    "plt.show()"
   ]
  },
  {
   "cell_type": "markdown",
   "id": "925824b1",
   "metadata": {},
   "source": [
    "## Saving and Restoring"
   ]
  },
  {
   "cell_type": "code",
   "execution_count": 29,
   "id": "96c16be5",
   "metadata": {},
   "outputs": [],
   "source": [
    "model.save(\"my_Func_model.h5\")"
   ]
  },
  {
   "cell_type": "code",
   "execution_count": 30,
   "id": "3a393501",
   "metadata": {},
   "outputs": [
    {
     "data": {
      "text/plain": [
       "'C:\\\\Users\\\\Arpit\\\\Desktop\\\\Machine Learning\\\\ML and DL'"
      ]
     },
     "execution_count": 30,
     "metadata": {},
     "output_type": "execute_result"
    }
   ],
   "source": [
    "%pwd"
   ]
  },
  {
   "cell_type": "code",
   "execution_count": 31,
   "id": "ff468ce2",
   "metadata": {},
   "outputs": [],
   "source": [
    "del model"
   ]
  },
  {
   "cell_type": "code",
   "execution_count": 32,
   "id": "6817f5e6",
   "metadata": {},
   "outputs": [],
   "source": [
    "keras.backend.clear_session()"
   ]
  },
  {
   "cell_type": "code",
   "execution_count": 33,
   "id": "868a4505",
   "metadata": {},
   "outputs": [],
   "source": [
    "model = keras.models.load_model(\"my_Func_model.h5\")"
   ]
  },
  {
   "cell_type": "code",
   "execution_count": 34,
   "id": "6082f170",
   "metadata": {},
   "outputs": [
    {
     "name": "stdout",
     "output_type": "stream",
     "text": [
      "Model: \"functional_1\"\n",
      "__________________________________________________________________________________________________\n",
      "Layer (type)                    Output Shape         Param #     Connected to                     \n",
      "==================================================================================================\n",
      "input_1 (InputLayer)            [(None, 8)]          0                                            \n",
      "__________________________________________________________________________________________________\n",
      "dense (Dense)                   (None, 30)           270         input_1[0][0]                    \n",
      "__________________________________________________________________________________________________\n",
      "dense_1 (Dense)                 (None, 30)           930         dense[0][0]                      \n",
      "__________________________________________________________________________________________________\n",
      "concatenate (Concatenate)       (None, 38)           0           input_1[0][0]                    \n",
      "                                                                 dense_1[0][0]                    \n",
      "__________________________________________________________________________________________________\n",
      "dense_2 (Dense)                 (None, 1)            39          concatenate[0][0]                \n",
      "==================================================================================================\n",
      "Total params: 1,239\n",
      "Trainable params: 1,239\n",
      "Non-trainable params: 0\n",
      "__________________________________________________________________________________________________\n"
     ]
    }
   ],
   "source": [
    "model.summary()"
   ]
  },
  {
   "cell_type": "code",
   "execution_count": 35,
   "id": "1aba32f4",
   "metadata": {},
   "outputs": [],
   "source": [
    "y_pred = model.predict(X_new)"
   ]
  },
  {
   "cell_type": "code",
   "execution_count": 36,
   "id": "a0826d88",
   "metadata": {},
   "outputs": [
    {
     "name": "stdout",
     "output_type": "stream",
     "text": [
      "[[0.75455105]\n",
      " [1.8283502 ]\n",
      " [4.2910814 ]]\n"
     ]
    }
   ],
   "source": [
    "print(y_pred)"
   ]
  },
  {
   "cell_type": "markdown",
   "id": "54baf279",
   "metadata": {},
   "source": [
    "## Using Callbacks during Training"
   ]
  },
  {
   "cell_type": "code",
   "execution_count": 37,
   "id": "f64b4faf",
   "metadata": {},
   "outputs": [],
   "source": [
    "keras.backend.clear_session()\n",
    "np.random.seed(42)\n",
    "tf.random.set_seed(42)"
   ]
  },
  {
   "cell_type": "code",
   "execution_count": 38,
   "id": "f4f38829",
   "metadata": {},
   "outputs": [],
   "source": [
    "model = keras.models.Sequential([\n",
    "    keras.layers.Dense(30, activation=\"relu\", input_shape=[8]),\n",
    "    keras.layers.Dense(30,activation=\"relu\"),\n",
    "    keras.layers.Dense(1)\n",
    "])"
   ]
  },
  {
   "cell_type": "code",
   "execution_count": 39,
   "id": "54bf4172",
   "metadata": {},
   "outputs": [],
   "source": [
    "model.compile(loss=\"mse\",optimizer=keras.optimizers.SGD(lr=1e-3))"
   ]
  },
  {
   "cell_type": "code",
   "execution_count": 40,
   "id": "1c6322d0",
   "metadata": {},
   "outputs": [],
   "source": [
    "checkpoint_cb = keras.callbacks.ModelCheckpoint(\"Model-{epoch:02d}.h5\")"
   ]
  },
  {
   "cell_type": "code",
   "execution_count": 41,
   "id": "76b59622",
   "metadata": {},
   "outputs": [
    {
     "name": "stdout",
     "output_type": "stream",
     "text": [
      "Epoch 1/10\n",
      "363/363 [==============================] - 1s 4ms/step - loss: 1.8866 - val_loss: 0.7414\n",
      "Epoch 2/10\n",
      "363/363 [==============================] - 1s 3ms/step - loss: 0.6577 - val_loss: 0.6221\n",
      "Epoch 3/10\n",
      "363/363 [==============================] - 1s 3ms/step - loss: 0.5934 - val_loss: 0.5779\n",
      "Epoch 4/10\n",
      "363/363 [==============================] - 1s 3ms/step - loss: 0.5557 - val_loss: 0.5572\n",
      "Epoch 5/10\n",
      "363/363 [==============================] - 1s 3ms/step - loss: 0.5272 - val_loss: 0.5305\n",
      "Epoch 6/10\n",
      "363/363 [==============================] - 1s 3ms/step - loss: 0.5033 - val_loss: 0.5113\n",
      "Epoch 7/10\n",
      "363/363 [==============================] - 1s 3ms/step - loss: 0.4854 - val_loss: 0.4974\n",
      "Epoch 8/10\n",
      "363/363 [==============================] - 1s 3ms/step - loss: 0.4709 - val_loss: 0.4903\n",
      "Epoch 9/10\n",
      "363/363 [==============================] - 1s 3ms/step - loss: 0.4578 - val_loss: 0.4773\n",
      "Epoch 10/10\n",
      "363/363 [==============================] - 1s 3ms/step - loss: 0.4474 - val_loss: 0.4696\n"
     ]
    }
   ],
   "source": [
    "history = model.fit(X_train,y_train,epochs=10,\n",
    "                   validation_data=(X_valid,y_valid),\n",
    "                   callbacks=[checkpoint_cb])"
   ]
  },
  {
   "cell_type": "code",
   "execution_count": 42,
   "id": "67c23ed1",
   "metadata": {},
   "outputs": [],
   "source": [
    "del model\n",
    "keras.backend.clear_session()"
   ]
  },
  {
   "cell_type": "code",
   "execution_count": 43,
   "id": "dc218fc6",
   "metadata": {},
   "outputs": [],
   "source": [
    "model = keras.models.load_model(\"my_Func_model.h5\")"
   ]
  },
  {
   "cell_type": "code",
   "execution_count": 44,
   "id": "aa0b4428",
   "metadata": {},
   "outputs": [
    {
     "name": "stdout",
     "output_type": "stream",
     "text": [
      "162/162 [==============================] - 0s 2ms/step - loss: 0.3903 - mean_absolute_error: 0.4530\n"
     ]
    }
   ],
   "source": [
    "mse_test = model.evaluate(X_test,y_test)"
   ]
  },
  {
   "cell_type": "markdown",
   "id": "45631332",
   "metadata": {},
   "source": [
    "## Best Model Only"
   ]
  },
  {
   "cell_type": "code",
   "execution_count": 45,
   "id": "760c3242",
   "metadata": {},
   "outputs": [],
   "source": [
    "del model\n",
    "keras.backend.clear_session()"
   ]
  },
  {
   "cell_type": "code",
   "execution_count": 46,
   "id": "59ba906c",
   "metadata": {},
   "outputs": [],
   "source": [
    "model = keras.models.Sequential([\n",
    "    keras.layers.Dense(30,activation=\"relu\",input_shape=[8]),\n",
    "    keras.layers.Dense(30, activation=\"relu\"),\n",
    "    keras.layers.Dense(1)\n",
    "])"
   ]
  },
  {
   "cell_type": "code",
   "execution_count": 47,
   "id": "64ccaca1",
   "metadata": {},
   "outputs": [],
   "source": [
    "model.compile(loss=\"mse\", optimizer=keras.optimizers.SGD(lr=1e-3))"
   ]
  },
  {
   "cell_type": "code",
   "execution_count": 48,
   "id": "efe5a264",
   "metadata": {},
   "outputs": [],
   "source": [
    "checkpoint_cb = keras.callbacks.ModelCheckpoint(\"Best_Model.h5\", save_best_only=True)"
   ]
  },
  {
   "cell_type": "code",
   "execution_count": 49,
   "id": "8411587a",
   "metadata": {},
   "outputs": [
    {
     "name": "stdout",
     "output_type": "stream",
     "text": [
      "Epoch 1/10\n",
      "363/363 [==============================] - 1s 3ms/step - loss: 1.4581 - val_loss: 0.8261\n",
      "Epoch 2/10\n",
      "363/363 [==============================] - 1s 3ms/step - loss: 0.7368 - val_loss: 0.6971\n",
      "Epoch 3/10\n",
      "363/363 [==============================] - 1s 3ms/step - loss: 0.6516 - val_loss: 0.6317\n",
      "Epoch 4/10\n",
      "363/363 [==============================] - 1s 3ms/step - loss: 0.5951 - val_loss: 0.5943\n",
      "Epoch 5/10\n",
      "363/363 [==============================] - 1s 3ms/step - loss: 0.5536 - val_loss: 0.5578\n",
      "Epoch 6/10\n",
      "363/363 [==============================] - 1s 3ms/step - loss: 0.5199 - val_loss: 0.5338\n",
      "Epoch 7/10\n",
      "363/363 [==============================] - 1s 3ms/step - loss: 0.4940 - val_loss: 0.5146\n",
      "Epoch 8/10\n",
      "363/363 [==============================] - 1s 3ms/step - loss: 0.4730 - val_loss: 0.4992\n",
      "Epoch 9/10\n",
      "363/363 [==============================] - 1s 3ms/step - loss: 0.4563 - val_loss: 0.4867\n",
      "Epoch 10/10\n",
      "363/363 [==============================] - 1s 3ms/step - loss: 0.4431 - val_loss: 0.4755\n"
     ]
    }
   ],
   "source": [
    "history = model.fit(X_train,y_train, epochs=10,\n",
    "                   validation_data=(X_valid,y_valid),\n",
    "                   callbacks=[checkpoint_cb])"
   ]
  },
  {
   "cell_type": "code",
   "execution_count": 50,
   "id": "0ca7c8ef",
   "metadata": {},
   "outputs": [],
   "source": [
    "model = keras.models.load_model(\"Best_model.h5\")"
   ]
  },
  {
   "cell_type": "code",
   "execution_count": 51,
   "id": "9037c4fd",
   "metadata": {},
   "outputs": [
    {
     "name": "stdout",
     "output_type": "stream",
     "text": [
      "162/162 [==============================] - 0s 2ms/step - loss: 0.4305\n"
     ]
    }
   ],
   "source": [
    "mse_test = model.evaluate(X_test,y_test)"
   ]
  },
  {
   "cell_type": "markdown",
   "id": "9b14bf71",
   "metadata": {},
   "source": [
    "## Best Model only"
   ]
  },
  {
   "cell_type": "code",
   "execution_count": 52,
   "id": "a0b6e686",
   "metadata": {},
   "outputs": [],
   "source": [
    "del model\n",
    "keras.backend.clear_session()"
   ]
  },
  {
   "cell_type": "code",
   "execution_count": 53,
   "id": "9ece370e",
   "metadata": {},
   "outputs": [],
   "source": [
    "model = keras.models.Sequential([\n",
    "    keras.layers.Dense(30,activation=\"relu\",input_shape=[8]),\n",
    "    keras.layers.Dense(30, activation=\"relu\"),\n",
    "    keras.layers.Dense(1)\n",
    "])"
   ]
  },
  {
   "cell_type": "code",
   "execution_count": 54,
   "id": "b8a198ac",
   "metadata": {},
   "outputs": [],
   "source": [
    "model.compile(loss=\"mse\", optimizer=keras.optimizers.SGD(lr=1e-3))"
   ]
  },
  {
   "cell_type": "code",
   "execution_count": 55,
   "id": "d991f5d5",
   "metadata": {},
   "outputs": [],
   "source": [
    "checkpoint_cb = keras.callbacks.ModelCheckpoint(\"early_stop_model.h5\", save_best_only=True)"
   ]
  },
  {
   "cell_type": "code",
   "execution_count": 56,
   "id": "18280b70",
   "metadata": {},
   "outputs": [],
   "source": [
    "early_stopping_cb = keras.callbacks.EarlyStopping(patience=10, restore_best_weights=True)"
   ]
  },
  {
   "cell_type": "code",
   "execution_count": 57,
   "id": "e2928432",
   "metadata": {},
   "outputs": [
    {
     "name": "stdout",
     "output_type": "stream",
     "text": [
      "Epoch 1/200\n",
      "  1/363 [..............................] - ETA: 0s - loss: 6.0614WARNING:tensorflow:Callbacks method `on_train_batch_end` is slow compared to the batch time (batch time: 0.0000s vs `on_train_batch_end` time: 0.0080s). Check your callbacks.\n",
      "363/363 [==============================] - 1s 3ms/step - loss: 2.5780 - val_loss: 1.2794\n",
      "Epoch 2/200\n",
      "363/363 [==============================] - 1s 3ms/step - loss: 1.0896 - val_loss: 0.8613\n",
      "Epoch 3/200\n",
      "363/363 [==============================] - 1s 3ms/step - loss: 0.8430 - val_loss: 0.7575\n",
      "Epoch 4/200\n",
      "363/363 [==============================] - 1s 3ms/step - loss: 0.7673 - val_loss: 0.7150\n",
      "Epoch 5/200\n",
      "363/363 [==============================] - 1s 3ms/step - loss: 0.7194 - val_loss: 0.6788\n",
      "Epoch 6/200\n",
      "363/363 [==============================] - 1s 3ms/step - loss: 0.6799 - val_loss: 0.6515\n",
      "Epoch 7/200\n",
      "363/363 [==============================] - 1s 4ms/step - loss: 0.6466 - val_loss: 0.6262\n",
      "Epoch 8/200\n",
      "363/363 [==============================] - 1s 3ms/step - loss: 0.6173 - val_loss: 0.6022\n",
      "Epoch 9/200\n",
      "363/363 [==============================] - 1s 3ms/step - loss: 0.5894 - val_loss: 0.5817\n",
      "Epoch 10/200\n",
      "363/363 [==============================] - 1s 3ms/step - loss: 0.5645 - val_loss: 0.5613\n",
      "Epoch 11/200\n",
      "363/363 [==============================] - 1s 3ms/step - loss: 0.5428 - val_loss: 0.5481\n",
      "Epoch 12/200\n",
      "363/363 [==============================] - 1s 3ms/step - loss: 0.5212 - val_loss: 0.5283\n",
      "Epoch 13/200\n",
      "363/363 [==============================] - 1s 3ms/step - loss: 0.5034 - val_loss: 0.5157\n",
      "Epoch 14/200\n",
      "363/363 [==============================] - 1s 3ms/step - loss: 0.4866 - val_loss: 0.5041\n",
      "Epoch 15/200\n",
      "363/363 [==============================] - 1s 3ms/step - loss: 0.4721 - val_loss: 0.4922\n",
      "Epoch 16/200\n",
      "363/363 [==============================] - 1s 3ms/step - loss: 0.4594 - val_loss: 0.4836\n",
      "Epoch 17/200\n",
      "363/363 [==============================] - 1s 3ms/step - loss: 0.4489 - val_loss: 0.4753\n",
      "Epoch 18/200\n",
      "363/363 [==============================] - 1s 3ms/step - loss: 0.4396 - val_loss: 0.4690\n",
      "Epoch 19/200\n",
      "363/363 [==============================] - 1s 3ms/step - loss: 0.4315 - val_loss: 0.4635\n",
      "Epoch 20/200\n",
      "363/363 [==============================] - 1s 3ms/step - loss: 0.4252 - val_loss: 0.4600\n",
      "Epoch 21/200\n",
      "363/363 [==============================] - 1s 3ms/step - loss: 0.4190 - val_loss: 0.4567\n",
      "Epoch 22/200\n",
      "363/363 [==============================] - 1s 3ms/step - loss: 0.4140 - val_loss: 0.4535\n",
      "Epoch 23/200\n",
      "363/363 [==============================] - 1s 3ms/step - loss: 0.4094 - val_loss: 0.4471\n",
      "Epoch 24/200\n",
      "363/363 [==============================] - 1s 3ms/step - loss: 0.4052 - val_loss: 0.4460\n",
      "Epoch 25/200\n",
      "363/363 [==============================] - 1s 3ms/step - loss: 0.4014 - val_loss: 0.4420\n",
      "Epoch 26/200\n",
      "363/363 [==============================] - 1s 3ms/step - loss: 0.3981 - val_loss: 0.4402\n",
      "Epoch 27/200\n",
      "363/363 [==============================] - 1s 3ms/step - loss: 0.3950 - val_loss: 0.4368\n",
      "Epoch 28/200\n",
      "363/363 [==============================] - 1s 3ms/step - loss: 0.3920 - val_loss: 0.4383\n",
      "Epoch 29/200\n",
      "363/363 [==============================] - 1s 3ms/step - loss: 0.3895 - val_loss: 0.4351\n",
      "Epoch 30/200\n",
      "363/363 [==============================] - 1s 3ms/step - loss: 0.3867 - val_loss: 0.4333\n",
      "Epoch 31/200\n",
      "363/363 [==============================] - 1s 3ms/step - loss: 0.3843 - val_loss: 0.4315\n",
      "Epoch 32/200\n",
      "363/363 [==============================] - 1s 3ms/step - loss: 0.3819 - val_loss: 0.4343\n",
      "Epoch 33/200\n",
      "363/363 [==============================] - 1s 3ms/step - loss: 0.3805 - val_loss: 0.4290\n",
      "Epoch 34/200\n",
      "363/363 [==============================] - 1s 3ms/step - loss: 0.3781 - val_loss: 0.4279\n",
      "Epoch 35/200\n",
      "363/363 [==============================] - 1s 3ms/step - loss: 0.3762 - val_loss: 0.4294\n",
      "Epoch 36/200\n",
      "363/363 [==============================] - 1s 3ms/step - loss: 0.3745 - val_loss: 0.4244\n",
      "Epoch 37/200\n",
      "363/363 [==============================] - 1s 3ms/step - loss: 0.3729 - val_loss: 0.4262\n",
      "Epoch 38/200\n",
      "363/363 [==============================] - 1s 3ms/step - loss: 0.3715 - val_loss: 0.4232\n",
      "Epoch 39/200\n",
      "363/363 [==============================] - 1s 3ms/step - loss: 0.3696 - val_loss: 0.4224\n",
      "Epoch 40/200\n",
      "363/363 [==============================] - 1s 3ms/step - loss: 0.3680 - val_loss: 0.4200\n",
      "Epoch 41/200\n",
      "363/363 [==============================] - 1s 3ms/step - loss: 0.3668 - val_loss: 0.4206\n",
      "Epoch 42/200\n",
      "363/363 [==============================] - 1s 3ms/step - loss: 0.3657 - val_loss: 0.4206\n",
      "Epoch 43/200\n",
      "363/363 [==============================] - 1s 3ms/step - loss: 0.3641 - val_loss: 0.4201\n",
      "Epoch 44/200\n",
      "363/363 [==============================] - 1s 3ms/step - loss: 0.3628 - val_loss: 0.4211\n",
      "Epoch 45/200\n",
      "363/363 [==============================] - 1s 3ms/step - loss: 0.3620 - val_loss: 0.4173\n",
      "Epoch 46/200\n",
      "363/363 [==============================] - 1s 3ms/step - loss: 0.3605 - val_loss: 0.4179\n",
      "Epoch 47/200\n",
      "363/363 [==============================] - 1s 3ms/step - loss: 0.3595 - val_loss: 0.4164\n",
      "Epoch 48/200\n",
      "363/363 [==============================] - 1s 3ms/step - loss: 0.3584 - val_loss: 0.4167\n",
      "Epoch 49/200\n",
      "363/363 [==============================] - 1s 3ms/step - loss: 0.3578 - val_loss: 0.4152\n",
      "Epoch 50/200\n",
      "363/363 [==============================] - 1s 3ms/step - loss: 0.3565 - val_loss: 0.4159\n",
      "Epoch 51/200\n",
      "363/363 [==============================] - 1s 3ms/step - loss: 0.3553 - val_loss: 0.4169\n",
      "Epoch 52/200\n",
      "363/363 [==============================] - 1s 3ms/step - loss: 0.3548 - val_loss: 0.4144\n",
      "Epoch 53/200\n",
      "363/363 [==============================] - 1s 3ms/step - loss: 0.3538 - val_loss: 0.4167\n",
      "Epoch 54/200\n",
      "363/363 [==============================] - 1s 3ms/step - loss: 0.3531 - val_loss: 0.4128\n",
      "Epoch 55/200\n",
      "363/363 [==============================] - 1s 3ms/step - loss: 0.3522 - val_loss: 0.4130\n",
      "Epoch 56/200\n",
      "363/363 [==============================] - 1s 3ms/step - loss: 0.3513 - val_loss: 0.4134\n",
      "Epoch 57/200\n",
      "363/363 [==============================] - 1s 3ms/step - loss: 0.3505 - val_loss: 0.4126\n",
      "Epoch 58/200\n",
      "363/363 [==============================] - 1s 3ms/step - loss: 0.3495 - val_loss: 0.4146\n",
      "Epoch 59/200\n",
      "363/363 [==============================] - 1s 3ms/step - loss: 0.3491 - val_loss: 0.4128\n",
      "Epoch 60/200\n",
      "363/363 [==============================] - 1s 3ms/step - loss: 0.3483 - val_loss: 0.4125\n",
      "Epoch 61/200\n",
      "363/363 [==============================] - 1s 3ms/step - loss: 0.3471 - val_loss: 0.4139\n",
      "Epoch 62/200\n",
      "363/363 [==============================] - 1s 3ms/step - loss: 0.3467 - val_loss: 0.4112\n",
      "Epoch 63/200\n",
      "363/363 [==============================] - 1s 3ms/step - loss: 0.3456 - val_loss: 0.4149\n",
      "Epoch 64/200\n",
      "363/363 [==============================] - 1s 3ms/step - loss: 0.3454 - val_loss: 0.4103\n",
      "Epoch 65/200\n",
      "363/363 [==============================] - 1s 3ms/step - loss: 0.3446 - val_loss: 0.4102\n",
      "Epoch 66/200\n",
      "363/363 [==============================] - 1s 3ms/step - loss: 0.3439 - val_loss: 0.4119\n",
      "Epoch 67/200\n",
      "363/363 [==============================] - 1s 3ms/step - loss: 0.3430 - val_loss: 0.4105\n",
      "Epoch 68/200\n",
      "363/363 [==============================] - 1s 3ms/step - loss: 0.3426 - val_loss: 0.4109\n",
      "Epoch 69/200\n",
      "363/363 [==============================] - 1s 3ms/step - loss: 0.3421 - val_loss: 0.4111\n",
      "Epoch 70/200\n",
      "363/363 [==============================] - 1s 3ms/step - loss: 0.3411 - val_loss: 0.4103\n",
      "Epoch 71/200\n",
      "363/363 [==============================] - 1s 3ms/step - loss: 0.3407 - val_loss: 0.4116\n",
      "Epoch 72/200\n",
      "363/363 [==============================] - 1s 3ms/step - loss: 0.3401 - val_loss: 0.4104\n",
      "Epoch 73/200\n",
      "363/363 [==============================] - 1s 3ms/step - loss: 0.3393 - val_loss: 0.4091\n",
      "Epoch 74/200\n",
      "363/363 [==============================] - 1s 3ms/step - loss: 0.3392 - val_loss: 0.4099\n",
      "Epoch 75/200\n",
      "363/363 [==============================] - 1s 3ms/step - loss: 0.3386 - val_loss: 0.4136\n",
      "Epoch 76/200\n",
      "363/363 [==============================] - 1s 3ms/step - loss: 0.3383 - val_loss: 0.4099\n",
      "Epoch 77/200\n",
      "363/363 [==============================] - 1s 3ms/step - loss: 0.3373 - val_loss: 0.4112\n",
      "Epoch 78/200\n",
      "363/363 [==============================] - 1s 3ms/step - loss: 0.3372 - val_loss: 0.4114\n",
      "Epoch 79/200\n"
     ]
    },
    {
     "name": "stdout",
     "output_type": "stream",
     "text": [
      "363/363 [==============================] - 1s 3ms/step - loss: 0.3367 - val_loss: 0.4116\n",
      "Epoch 80/200\n",
      "363/363 [==============================] - 1s 3ms/step - loss: 0.3364 - val_loss: 0.4087\n",
      "Epoch 81/200\n",
      "363/363 [==============================] - 1s 3ms/step - loss: 0.3358 - val_loss: 0.4083\n",
      "Epoch 82/200\n",
      "363/363 [==============================] - 1s 3ms/step - loss: 0.3355 - val_loss: 0.4071\n",
      "Epoch 83/200\n",
      "363/363 [==============================] - 1s 3ms/step - loss: 0.3352 - val_loss: 0.4079\n",
      "Epoch 84/200\n",
      "363/363 [==============================] - 1s 3ms/step - loss: 0.3346 - val_loss: 0.4087\n",
      "Epoch 85/200\n",
      "363/363 [==============================] - 1s 3ms/step - loss: 0.3343 - val_loss: 0.4105\n",
      "Epoch 86/200\n",
      "363/363 [==============================] - 1s 3ms/step - loss: 0.3341 - val_loss: 0.4076\n",
      "Epoch 87/200\n",
      "363/363 [==============================] - 1s 3ms/step - loss: 0.3336 - val_loss: 0.4092\n",
      "Epoch 88/200\n",
      "363/363 [==============================] - 1s 3ms/step - loss: 0.3331 - val_loss: 0.4074\n",
      "Epoch 89/200\n",
      "363/363 [==============================] - 1s 3ms/step - loss: 0.3328 - val_loss: 0.4098\n",
      "Epoch 90/200\n",
      "363/363 [==============================] - 1s 3ms/step - loss: 0.3326 - val_loss: 0.4101\n",
      "Epoch 91/200\n",
      "363/363 [==============================] - 1s 3ms/step - loss: 0.3323 - val_loss: 0.4098\n",
      "Epoch 92/200\n",
      "363/363 [==============================] - 1s 3ms/step - loss: 0.3318 - val_loss: 0.4095\n"
     ]
    }
   ],
   "source": [
    "history = model.fit(X_train,y_train, epochs=200,\n",
    "                   validation_data=(X_valid,y_valid),\n",
    "                   callbacks=[checkpoint_cb, early_stopping_cb])"
   ]
  },
  {
   "cell_type": "code",
   "execution_count": 58,
   "id": "06dc2d71",
   "metadata": {},
   "outputs": [
    {
     "name": "stdout",
     "output_type": "stream",
     "text": [
      "162/162 [==============================] - 0s 2ms/step - loss: 0.3676\n"
     ]
    }
   ],
   "source": [
    "model = keras.models.load_model(\"early_stop_model.h5\")\n",
    "mse_test = model.evaluate(X_test,y_test)"
   ]
  },
  {
   "cell_type": "code",
   "execution_count": null,
   "id": "227e919a",
   "metadata": {},
   "outputs": [],
   "source": []
  }
 ],
 "metadata": {
  "kernelspec": {
   "display_name": "Python 3 (ipykernel)",
   "language": "python",
   "name": "python3"
  },
  "language_info": {
   "codemirror_mode": {
    "name": "ipython",
    "version": 3
   },
   "file_extension": ".py",
   "mimetype": "text/x-python",
   "name": "python",
   "nbconvert_exporter": "python",
   "pygments_lexer": "ipython3",
   "version": "3.8.13"
  }
 },
 "nbformat": 4,
 "nbformat_minor": 5
}
