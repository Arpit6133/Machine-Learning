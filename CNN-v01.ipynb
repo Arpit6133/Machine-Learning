{
 "cells": [
  {
   "cell_type": "code",
   "execution_count": 1,
   "id": "2aa5b090",
   "metadata": {},
   "outputs": [],
   "source": [
    "import numpy as np\n",
    "import pandas as pd\n",
    "%matplotlib inline\n",
    "import matplotlib as mpl\n",
    "import matplotlib.pyplot as plt"
   ]
  },
  {
   "cell_type": "code",
   "execution_count": 2,
   "id": "f47603f1",
   "metadata": {},
   "outputs": [],
   "source": [
    "import tensorflow as tf\n",
    "from tensorflow import keras"
   ]
  },
  {
   "cell_type": "code",
   "execution_count": 3,
   "id": "6375305c",
   "metadata": {},
   "outputs": [],
   "source": [
    "fashion_mnist = keras.datasets.fashion_mnist"
   ]
  },
  {
   "cell_type": "code",
   "execution_count": 4,
   "id": "3f022514",
   "metadata": {},
   "outputs": [],
   "source": [
    "(X_train_full,y_train_full),(X_test,y_test) = fashion_mnist.load_data()"
   ]
  },
  {
   "cell_type": "code",
   "execution_count": 5,
   "id": "7effd1dc",
   "metadata": {},
   "outputs": [],
   "source": [
    "class_names = [\"T-shirt/top\",\"Trouser\",\"Pullover\",\"Dress\",\"Coat\",\"Sandal\",\"Shirt\",\"Sneaker\",\"Bag\",\"Ankle boot\"]"
   ]
  },
  {
   "cell_type": "markdown",
   "id": "f83cac87",
   "metadata": {},
   "source": [
    "## Data Reshape"
   ]
  },
  {
   "cell_type": "code",
   "execution_count": 6,
   "id": "c6065a6e",
   "metadata": {},
   "outputs": [],
   "source": [
    "X_train_full = X_train_full.reshape((60000,28,28,1))"
   ]
  },
  {
   "cell_type": "code",
   "execution_count": 7,
   "id": "3d974685",
   "metadata": {},
   "outputs": [],
   "source": [
    "X_test = X_test.reshape((10000,28,28,1))"
   ]
  },
  {
   "cell_type": "markdown",
   "id": "c687ddca",
   "metadata": {},
   "source": [
    "## Data normalization\n",
    "We then normalize the data dimensions so that they are of approximately the same scale"
   ]
  },
  {
   "cell_type": "code",
   "execution_count": 8,
   "id": "a6fc95ee",
   "metadata": {},
   "outputs": [],
   "source": [
    "X_train_n = X_train_full/255\n",
    "X_test_n = X_test/255"
   ]
  },
  {
   "cell_type": "markdown",
   "id": "a7f0d36e",
   "metadata": {},
   "source": [
    "## Split the data into train/validation/test datasets\n",
    "\n",
    "In the earlier step of importing the date, we had 60,000 datasets for training and 10,000 test datasets. Now wee further split the training data into train/validation.Here is how each type of datasets is used in deep learning\n",
    "\n",
    "1. Training data - used for training the model \n",
    "2. Validation data - used for tuning the hyperparameter and evalute the models \n",
    "3. Test data - used to test the model after the model has gone through initial vetting by the validation set."
   ]
  },
  {
   "cell_type": "code",
   "execution_count": 9,
   "id": "7de4303c",
   "metadata": {},
   "outputs": [],
   "source": [
    "X_valid,X_train = X_train_n[:5000],X_train_n[5000:]"
   ]
  },
  {
   "cell_type": "code",
   "execution_count": 10,
   "id": "65e0efb8",
   "metadata": {},
   "outputs": [],
   "source": [
    "y_valid,y_train = y_train_full[:5000],y_train_full[5000:]"
   ]
  },
  {
   "cell_type": "code",
   "execution_count": 11,
   "id": "7b7d435f",
   "metadata": {},
   "outputs": [],
   "source": [
    "X_test = X_test_n"
   ]
  },
  {
   "cell_type": "markdown",
   "id": "b600148a",
   "metadata": {},
   "source": [
    "## Create  the model architecture"
   ]
  },
  {
   "cell_type": "code",
   "execution_count": 12,
   "id": "4ef5d694",
   "metadata": {},
   "outputs": [],
   "source": [
    "np.random.seed(42)\n",
    "tf.random.set_seed(42)"
   ]
  },
  {
   "cell_type": "code",
   "execution_count": 14,
   "id": "7875d044",
   "metadata": {},
   "outputs": [],
   "source": [
    "model = keras.models.Sequential()\n",
    "model.add(keras.layers.Conv2D(filters=32,kernel_size =(3,3), strides=1,padding=\"valid\",activation=\"relu\",input_shape=(28,28,1)))\n",
    "model.add(keras.layers.MaxPooling2D((2,2)))\n",
    "\n",
    "model.add(keras.layers.Flatten())\n",
    "model.add(keras.layers.Dense(300,activation=\"relu\"))\n",
    "model.add(keras.layers.Dense(100,activation=\"relu\"))\n",
    "model.add(keras.layers.Dense(10,activation=\"softmax\"))\n",
    "\n"
   ]
  },
  {
   "cell_type": "code",
   "execution_count": 16,
   "id": "d7d1bdbd",
   "metadata": {},
   "outputs": [
    {
     "name": "stdout",
     "output_type": "stream",
     "text": [
      "Model: \"sequential_1\"\n",
      "_________________________________________________________________\n",
      "Layer (type)                 Output Shape              Param #   \n",
      "=================================================================\n",
      "conv2d (Conv2D)              (None, 26, 26, 32)        320       \n",
      "_________________________________________________________________\n",
      "max_pooling2d (MaxPooling2D) (None, 13, 13, 32)        0         \n",
      "_________________________________________________________________\n",
      "flatten (Flatten)            (None, 5408)              0         \n",
      "_________________________________________________________________\n",
      "dense (Dense)                (None, 300)               1622700   \n",
      "_________________________________________________________________\n",
      "dense_1 (Dense)              (None, 100)               30100     \n",
      "_________________________________________________________________\n",
      "dense_2 (Dense)              (None, 10)                1010      \n",
      "=================================================================\n",
      "Total params: 1,654,130\n",
      "Trainable params: 1,654,130\n",
      "Non-trainable params: 0\n",
      "_________________________________________________________________\n"
     ]
    }
   ],
   "source": [
    "model.summary()"
   ]
  },
  {
   "cell_type": "code",
   "execution_count": 18,
   "id": "cd887217",
   "metadata": {},
   "outputs": [],
   "source": [
    "model.compile(loss=\"sparse_categorical_crossentropy\",\n",
    "             optimizer=\"sgd\",\n",
    "             metrics=[\"accuracy\"])"
   ]
  },
  {
   "cell_type": "code",
   "execution_count": 19,
   "id": "08c18f3c",
   "metadata": {},
   "outputs": [
    {
     "name": "stdout",
     "output_type": "stream",
     "text": [
      "Epoch 1/10\n",
      "860/860 [==============================] - 35s 40ms/step - loss: 0.8768 - accuracy: 0.6987 - val_loss: 0.7487 - val_accuracy: 0.7346\n",
      "Epoch 2/10\n",
      "860/860 [==============================] - 34s 39ms/step - loss: 0.5388 - accuracy: 0.8051 - val_loss: 0.4919 - val_accuracy: 0.8196\n",
      "Epoch 3/10\n",
      "860/860 [==============================] - 34s 40ms/step - loss: 0.4811 - accuracy: 0.8256 - val_loss: 0.9141 - val_accuracy: 0.7104\n",
      "Epoch 4/10\n",
      "860/860 [==============================] - 34s 39ms/step - loss: 0.4441 - accuracy: 0.8417 - val_loss: 0.4169 - val_accuracy: 0.8568\n",
      "Epoch 5/10\n",
      "860/860 [==============================] - 34s 39ms/step - loss: 0.4200 - accuracy: 0.8498 - val_loss: 0.4365 - val_accuracy: 0.8466\n",
      "Epoch 6/10\n",
      "860/860 [==============================] - 34s 40ms/step - loss: 0.3957 - accuracy: 0.8581 - val_loss: 0.3765 - val_accuracy: 0.8714\n",
      "Epoch 7/10\n",
      "860/860 [==============================] - 34s 40ms/step - loss: 0.3782 - accuracy: 0.8659 - val_loss: 0.4075 - val_accuracy: 0.8544\n",
      "Epoch 8/10\n",
      "860/860 [==============================] - 34s 40ms/step - loss: 0.3629 - accuracy: 0.8696 - val_loss: 0.5180 - val_accuracy: 0.8074\n",
      "Epoch 9/10\n",
      "860/860 [==============================] - 34s 40ms/step - loss: 0.3489 - accuracy: 0.8743 - val_loss: 0.3711 - val_accuracy: 0.8670\n",
      "Epoch 10/10\n",
      "860/860 [==============================] - 34s 40ms/step - loss: 0.3370 - accuracy: 0.8784 - val_loss: 0.3810 - val_accuracy: 0.8594\n"
     ]
    }
   ],
   "source": [
    "model_history = model.fit(X_train,y_train, epochs=10, batch_size=64,\n",
    "                          validation_data = (X_valid,y_valid))"
   ]
  },
  {
   "cell_type": "code",
   "execution_count": 20,
   "id": "a29e9776",
   "metadata": {},
   "outputs": [
    {
     "data": {
      "image/png": "[encoded data removed]",
      "text/plain": [
       "<Figure size 576x360 with 1 Axes>"
      ]
     },
     "metadata": {
      "needs_background": "light"
     },
     "output_type": "display_data"
    }
   ],
   "source": [
    "import pandas as pad\n",
    "\n",
    "pd.DataFrame(model_history.history).plot(figsize=(8,5))\n",
    "plt.grid(True)\n",
    "plt.gca().set_ylim(0,1)\n",
    "plt.show()"
   ]
  },
  {
   "cell_type": "code",
   "execution_count": 21,
   "id": "3ff083fd",
   "metadata": {},
   "outputs": [
    {
     "name": "stdout",
     "output_type": "stream",
     "text": [
      "313/313 [==============================] - 3s 10ms/step - loss: 0.4135 - accuracy: 0.8460\n"
     ]
    }
   ],
   "source": [
    "ev = model.evaluate(X_test_n,y_test)"
   ]
  },
  {
   "cell_type": "code",
   "execution_count": 22,
   "id": "cd4ddf8b",
   "metadata": {},
   "outputs": [
    {
     "data": {
      "text/plain": [
       "[0.41349175572395325, 0.8460000157356262]"
      ]
     },
     "execution_count": 22,
     "metadata": {},
     "output_type": "execute_result"
    }
   ],
   "source": [
    "ev"
   ]
  },
  {
   "cell_type": "code",
   "execution_count": 23,
   "id": "edc8e93b",
   "metadata": {},
   "outputs": [],
   "source": [
    "X_new = X_test[:3]"
   ]
  },
  {
   "cell_type": "code",
   "execution_count": 24,
   "id": "00b4740b",
   "metadata": {},
   "outputs": [
    {
     "name": "stdout",
     "output_type": "stream",
     "text": [
      "WARNING:tensorflow:From C:\\Users\\Arpit\\AppData\\Local\\Temp\\ipykernel_1888\\2152189825.py:1: Sequential.predict_classes (from tensorflow.python.keras.engine.sequential) is deprecated and will be removed after 2021-01-01.\n",
      "Instructions for updating:\n",
      "Please use instead:* `np.argmax(model.predict(x), axis=-1)`,   if your model does multi-class classification   (e.g. if it uses a `softmax` last-layer activation).* `(model.predict(x) > 0.5).astype(\"int32\")`,   if your model does binary classification   (e.g. if it uses a `sigmoid` last-layer activation).\n"
     ]
    },
    {
     "data": {
      "text/plain": [
       "array([9, 2, 1], dtype=int64)"
      ]
     },
     "execution_count": 24,
     "metadata": {},
     "output_type": "execute_result"
    }
   ],
   "source": [
    "y_pred = model.predict_classes(X_new)\n",
    "y_pred\n"
   ]
  },
  {
   "cell_type": "code",
   "execution_count": 25,
   "id": "770ac0ec",
   "metadata": {},
   "outputs": [
    {
     "data": {
      "text/plain": [
       "array([9, 2, 1], dtype=uint8)"
      ]
     },
     "execution_count": 25,
     "metadata": {},
     "output_type": "execute_result"
    }
   ],
   "source": [
    "y_test[:3]"
   ]
  },
  {
   "cell_type": "code",
   "execution_count": 28,
   "id": "33ab3fef",
   "metadata": {
    "scrolled": true
   },
   "outputs": [
    {
     "name": "stdout",
     "output_type": "stream",
     "text": [
      "AxesImage(54,36;334.8x217.44)\n"
     ]
    },
    {
     "data": {
      "image/png": "[encoded data removed]",
      "text/plain": [
       "<Figure size 432x288 with 1 Axes>"
      ]
     },
     "metadata": {
      "needs_background": "light"
     },
     "output_type": "display_data"
    }
   ],
   "source": [
    "print(plt.imshow(X_test[0].reshape((28,28))))"
   ]
  },
  {
   "cell_type": "code",
   "execution_count": 29,
   "id": "a21d25d3",
   "metadata": {},
   "outputs": [
    {
     "data": {
      "text/plain": [
       "<function tensorflow.python.keras.backend.clear_session()>"
      ]
     },
     "execution_count": 29,
     "metadata": {},
     "output_type": "execute_result"
    }
   ],
   "source": [
    "keras.backend.clear_session\n"
   ]
  },
  {
   "cell_type": "code",
   "execution_count": 30,
   "id": "621ef910",
   "metadata": {},
   "outputs": [],
   "source": [
    "del model"
   ]
  },
  {
   "cell_type": "code",
   "execution_count": null,
   "id": "23c68ac7",
   "metadata": {},
   "outputs": [],
   "source": []
  }
 ],
 "metadata": {
  "kernelspec": {
   "display_name": "Python 3 (ipykernel)",
   "language": "python",
   "name": "python3"
  },
  "language_info": {
   "codemirror_mode": {
    "name": "ipython",
    "version": 3
   },
   "file_extension": ".py",
   "mimetype": "text/x-python",
   "name": "python",
   "nbconvert_exporter": "python",
   "pygments_lexer": "ipython3",
   "version": "3.8.13"
  }
 },
 "nbformat": 4,
 "nbformat_minor": 5
}
